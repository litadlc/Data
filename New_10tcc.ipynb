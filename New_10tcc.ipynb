{
 "cells": [
  {
   "cell_type": "code",
   "execution_count": 1,
   "metadata": {},
   "outputs": [
    {
     "name": "stderr",
     "output_type": "stream",
     "text": [
      "/Users/litadlc/anaconda3/lib/python3.6/site-packages/h5py/__init__.py:36: FutureWarning: Conversion of the second argument of issubdtype from `float` to `np.floating` is deprecated. In future, it will be treated as `np.float64 == np.dtype(float).type`.\n",
      "  from ._conv import register_converters as _register_converters\n"
     ]
    }
   ],
   "source": [
    "import h5py\n",
    "import numpy as np\n",
    "import matplotlib\n",
    "matplotlib.use('Agg')\n",
    "matplotlib.rcParams['mathtext.default'] = 'regular'\n",
    "import matplotlib.pyplot as plt\n",
    "from matplotlib.colors import LogNorm\n",
    "from PIL import Image\n",
    "import numpy.ma as ma"
   ]
  },
  {
   "cell_type": "code",
   "execution_count": 2,
   "metadata": {},
   "outputs": [],
   "source": [
    "mp = 1.672622e-24 # mass of hydrogren atom, in grams\n",
    "kb = 1.380658e-16 # boltzmann constant in ergs/K\n",
    "\n",
    "d_c = mp # code density unit, 1 mp / cm^3\n",
    "l_c = 3.08567758e18 # code length unit, 1 pc in cm\n",
    "l_km = 3.08567758e13 # code length unit, 1pc in km\n",
    "t_c = 3.15569e10    # code time unit, 1 kyr in seconds\n",
    "v_c = l_c / t_c     # code velocity unit\n",
    "v_km = l_km / t_c     # code velocity unit\n",
    "p_c = d_c * v_c * v_c # code pressure unit\n",
    "m_c = d_c * l_c * l_c * l_c / 1.9891e33 # code mass unit to solar masses"
   ]
  },
  {
   "cell_type": "code",
   "execution_count": 3,
   "metadata": {},
   "outputs": [],
   "source": [
    "istart = 398 # starting file number\n",
    "iend   = 398 # ending file number\n",
    "#dx = 5./64. # size scale, pc per cell\n",
    "#t_cc = 39.8 # cloud crushing time in kyr, n = 0.5 cloud\n",
    "#t_cc = 56.4 # cloud crushing time in kyr, n = 1 cloud\n",
    "#dnamein='/Users/litadlc/Desktop/Data/' # directory where the file is located\n",
    "dnameout='/Users/litadlc/Desktop/10tcc/' # directory where the plot will be saved"
   ]
  },
  {
   "cell_type": "code",
   "execution_count": 4,
   "metadata": {},
   "outputs": [
    {
     "name": "stdout",
     "output_type": "stream",
     "text": [
      "398\n"
     ]
    }
   ],
   "source": [
    "for i in range(istart,iend+1,30):\n",
    "    print(i)\n",
    "#f = h5py.File(dnamein+str(i)+'.h5', 'r') # open the hdf5 file for reading\n",
    "#head = f.attrs # read the header attributes into structure, head\n",
    "#gamma = head['gamma'][0] # ratio of specific heats\n",
    "#t  = head['t'][0] # time of this snapshot, in kyr\n",
    "#nx = head['dims'][0] # number of cells in the x direction\n",
    "#ny = head['dims'][1] # number of cells in the y direction\n",
    "#nz = head['dims'][2] # number of cells in the z direction\n",
    "#d  = f['density'][:]\n",
    "#mx = f['momentum_x'][:]\n",
    "#E = f['Energy'][:]\n",
    "#GE = f['GasEnergy'][:] # internal energy in code units, d*e\n",
    "#f.close()"
   ]
  },
  {
   "cell_type": "code",
   "execution_count": 5,
   "metadata": {},
   "outputs": [],
   "source": [
    "pn_min_SiII=11\n",
    "pn_max_SiII=18.14\n",
    "\n",
    "pn_min_OVI=11\n",
    "pn_max_OVI=17.69\n",
    "\n",
    "pn_min_CII=12\n",
    "pn_max_CII=17.95"
   ]
  },
  {
   "cell_type": "code",
   "execution_count": 6,
   "metadata": {},
   "outputs": [],
   "source": [
    "N_OVI_log=np.load('N_OVI_log.npy')\n",
    "N_SiII_log=np.load('N_SiII_log.npy')\n",
    "N_CII_log=np.load('N_CII_log.npy')"
   ]
  },
  {
   "cell_type": "code",
   "execution_count": 7,
   "metadata": {},
   "outputs": [],
   "source": [
    "n_v_SiII=np.load('Tau_SiII.npy')\n",
    "n_v_OVI=np.load('Tau_OVI.npy')\n",
    "n_v_CII=np.load('Tau_CII.npy')\n",
    "N_SiII=np.load('N_SiII.npy')\n",
    "N_OVI=np.load('N_OVI.npy')\n",
    "N_CII=np.load('N_CII.npy')"
   ]
  },
  {
   "cell_type": "code",
   "execution_count": 8,
   "metadata": {},
   "outputs": [],
   "source": [
    "#plot the surface density, x-axis projection\n",
    "fig = plt.figure(figsize=(10,10))\n",
    "a0 = fig.add_axes([0,0,0.67,1.0])\n",
    "a0.set_xticks(512*np.arange(0.25, 1, 0.25))\n",
    "a0.set_yticks(512*np.arange(0.25, 1, 0.25))\n",
    "a0.tick_params(axis='both', which='both', direction='in', color='white', labelleft=0, labelbottom=0, top=1, right=1)\n",
    "\n",
    "# add a circle showing the original extent of the cloud\n",
    "circle=plt.Circle((256,256),64,fill=False,edgecolor='white',linestyle='dashed',linewidth=3.0)\n",
    "fig.gca().add_artist(circle)\n",
    "image = a0.imshow(N_OVI_log.T, origin='lower', cmap='viridis', vmin=pn_min_OVI, vmax=pn_max_OVI)\n",
    "\n",
    "cbaxes = fig.add_axes([0.7, 0.165, 0.05, .67])\n",
    "cb = plt.colorbar(image, cax = cbaxes)\n",
    "cbaxes.tick_params(axis='y', direction='in')\n",
    "cb.solids.set_edgecolor('face')\n",
    "font_size=30\n",
    "#matplotlib.rc('xtick', labelsize=20) \n",
    "matplotlib.rc('ytick', labelsize=20) \n",
    "cbaxes.set_ylabel('$(N_{OVI})$ [$cm^{-2}$]',fontsize=font_size)\n",
    "a0.text(340, 450, r'10 $t_{cc}$ OVI', color='white',fontsize=font_size)\n",
    "\n",
    "plt.savefig(dnameout+'sd_x_OVI'+str(i)+'.png', dpi=300)\n",
    "plt.close(fig)\n",
    "plt.show()"
   ]
  },
  {
   "cell_type": "code",
   "execution_count": 9,
   "metadata": {},
   "outputs": [],
   "source": [
    "#plot the surface density, x-axis projection\n",
    "fig = plt.figure(figsize=(10,10))\n",
    "a0 = fig.add_axes([0,0,0.67,1.0])\n",
    "a0.set_xticks(512*np.arange(0.25, 1, 0.25))\n",
    "a0.set_yticks(512*np.arange(0.25, 1, 0.25))\n",
    "a0.tick_params(axis='both', which='both', direction='in', color='white', labelleft=0, labelbottom=0, top=1, right=1)\n",
    "\n",
    "# add a circle showing the original extent of the cloud\n",
    "circle=plt.Circle((256,256),64,fill=False,edgecolor='white',linestyle='dashed',linewidth=3.0)\n",
    "fig.gca().add_artist(circle)\n",
    "image_CII = a0.imshow(N_SiII_log.T, origin='lower', cmap='viridis', vmin=pn_min_SiII, vmax=pn_max_SiII)\n",
    "\n",
    "cbaxes = fig.add_axes([0.7, 0.165, 0.05, .67])\n",
    "cb = plt.colorbar(image, cax = cbaxes)\n",
    "cbaxes.tick_params(axis='y', direction='in',width=2)\n",
    "cb.solids.set_edgecolor('face')\n",
    "font_size=30\n",
    "#matplotlib.rc('xtick', labelsize=20) \n",
    "matplotlib.rc('ytick', labelsize=20)\n",
    "cbaxes.set_ylabel('$(N_{SiII})$ [$cm^{-2}$]',fontsize=font_size)\n",
    "a0.text(340, 450, r'10 $t_{cc}$ SiII', color='white',fontsize=font_size)\n",
    "plt.savefig(dnameout+'sd_x_SiII'+str(i)+'.png', dpi=300)\n",
    "plt.close(fig)\n",
    "plt.show()"
   ]
  },
  {
   "cell_type": "code",
   "execution_count": 10,
   "metadata": {},
   "outputs": [],
   "source": [
    "#plot the surface density, x-axis projection\n",
    "fig = plt.figure(figsize=(10,10))\n",
    "a0 = fig.add_axes([0,0,0.67,1.0])\n",
    "a0.set_xticks(512*np.arange(0.25, 1, 0.25))\n",
    "a0.set_yticks(512*np.arange(0.25, 1, 0.25))\n",
    "a0.tick_params(axis='both', which='both', direction='in', color='white', labelleft=0, labelbottom=0, top=1, right=1)\n",
    "\n",
    "# add a circle showing the original extent of the cloud\n",
    "circle=plt.Circle((256,256),64,fill=False,edgecolor='white',linestyle='dashed',linewidth=0.5)\n",
    "fig.gca().add_artist(circle)\n",
    "image_CII = a0.imshow(N_CII_log.T, origin='lower', cmap='viridis', vmin=pn_min_CII, vmax=pn_max_CII)\n",
    "\n",
    "cbaxes = fig.add_axes([0.7, 0.165, 0.05, .67])\n",
    "cb = plt.colorbar(image, cax = cbaxes)\n",
    "cbaxes.tick_params(axis='y', direction='in',width=2)\n",
    "cb.solids.set_edgecolor('face')\n",
    "font_size=30\n",
    "cbaxes.set_ylabel('$(N_{CII})$ [$cm^{-2}$]',fontsize=font_size)\n",
    "a0.text(340, 450, r'10 $t_{cc}$ CII', color='white',fontsize=font_size)\n",
    "plt.savefig(dnameout+'sd_x_CII'+str(i)+'.png', dpi=300)\n",
    "plt.close(fig)\n",
    "plt.show()"
   ]
  },
  {
   "cell_type": "code",
   "execution_count": 11,
   "metadata": {},
   "outputs": [],
   "source": [
    "me=9.10e-28 #in grams\n",
    "c=3e18 #in Angstroms per sec\n",
    "dv=12e5  #in cm\n",
    "dr=4.94e20 #in cm\n",
    "e = 4.80e-10 #in esu=((cm^3/2)*(grams^1/2))/s\n",
    "f_SiII=1.18 \n",
    "f_OVI=0.1325\n",
    "f_CII=0.128\n",
    "rw_SiII=1260 # in Angstroms\n",
    "rw_OVI=1032 #in Angstroms\n",
    "rw_CII=1335 #in Angstroms"
   ]
  },
  {
   "cell_type": "code",
   "execution_count": 12,
   "metadata": {},
   "outputs": [],
   "source": [
    "Tau_jk_SiII= ((((np.pi)*(e**2))/(me*c))*f_SiII*n_v_SiII*rw_SiII*(dr/dv))\n",
    "Tau_jk_OVI= ((((np.pi)*(e**2))/(me*c))*f_OVI*n_v_OVI*rw_OVI*(dr/dv))\n",
    "Tau_jk_CII= ((((np.pi)*(e**2))/(me*c))*f_CII*n_v_CII*rw_CII*(dr/dv))"
   ]
  },
  {
   "cell_type": "code",
   "execution_count": 13,
   "metadata": {},
   "outputs": [],
   "source": []
  },
  {
   "cell_type": "code",
   "execution_count": null,
   "metadata": {},
   "outputs": [],
   "source": []
  },
  {
   "cell_type": "code",
   "execution_count": null,
   "metadata": {},
   "outputs": [],
   "source": []
  },
  {
   "cell_type": "code",
   "execution_count": 16,
   "metadata": {},
   "outputs": [
    {
     "data": {
      "text/plain": [
       "101171.19672553684"
      ]
     },
     "execution_count": 16,
     "metadata": {},
     "output_type": "execute_result"
    }
   ],
   "source": [
    "np.sum(TSiII[259,259,:])*dr"
   ]
  },
  {
   "cell_type": "code",
   "execution_count": 17,
   "metadata": {},
   "outputs": [
    {
     "data": {
      "text/plain": [
       "3.275357441462861e+16"
      ]
     },
     "execution_count": 17,
     "metadata": {},
     "output_type": "execute_result"
    }
   ],
   "source": [
    "np.sum(TOVI[260,260,:])*dr"
   ]
  },
  {
   "cell_type": "code",
   "execution_count": 18,
   "metadata": {},
   "outputs": [
    {
     "data": {
      "text/plain": [
       "7.910547219226845e+16"
      ]
     },
     "execution_count": 18,
     "metadata": {},
     "output_type": "execute_result"
    }
   ],
   "source": [
    "np.sum(TCII[259,259,:])*dr"
   ]
  },
  {
   "cell_type": "code",
   "execution_count": 19,
   "metadata": {},
   "outputs": [],
   "source": [
    "#a=np.average(Tau_jk_SiII, weights=Tau_jk_SiII>1e-15)\n",
    "#y=np.ma.masked_where(0.5e-17>=f,f).mean()"
   ]
  },
  {
   "cell_type": "code",
   "execution_count": null,
   "metadata": {},
   "outputs": [],
   "source": []
  },
  {
   "cell_type": "code",
   "execution_count": 20,
   "metadata": {},
   "outputs": [],
   "source": [
    "T_v_SiII=Tau_jk_SiII.mean(axis=(0,1))\n",
    "T_v_OVI=Tau_jk_OVI.mean(axis=(0,1))\n",
    "T_v_CII=Tau_jk_CII.mean(axis=(0,1))"
   ]
  },
  {
   "cell_type": "code",
   "execution_count": 21,
   "metadata": {},
   "outputs": [
    {
     "data": {
      "text/plain": [
       "1.973833941057239"
      ]
     },
     "execution_count": 21,
     "metadata": {},
     "output_type": "execute_result"
    }
   ],
   "source": [
    "np.max(T_v_CII)/5"
   ]
  },
  {
   "cell_type": "code",
   "execution_count": 29,
   "metadata": {},
   "outputs": [
    {
     "data": {
      "text/plain": [
       "4.74829994892432"
      ]
     },
     "execution_count": 29,
     "metadata": {},
     "output_type": "execute_result"
    }
   ],
   "source": [
    "np.max(T_v_OVI)"
   ]
  },
  {
   "cell_type": "code",
   "execution_count": 32,
   "metadata": {},
   "outputs": [
    {
     "data": {
      "text/plain": [
       "114.34129587737509"
      ]
     },
     "execution_count": 32,
     "metadata": {},
     "output_type": "execute_result"
    }
   ],
   "source": [
    "np.max(T_v_SiII)"
   ]
  },
  {
   "cell_type": "code",
   "execution_count": 22,
   "metadata": {},
   "outputs": [],
   "source": [
    "max_value_SiII=22.868259175475018\n",
    "max_value_CII=1.973833941057239\n",
    "new_T_v_SiII=T_v_SiII/max_value_SiII\n",
    "new_T_v_OVI=T_v_OVI\n",
    "new_T_v_CII=T_v_CII/max_value_CII"
   ]
  },
  {
   "cell_type": "code",
   "execution_count": 23,
   "metadata": {},
   "outputs": [],
   "source": [
    "#T_v_SiII[T_v_SiII>5]=5\n",
    "#T_v_OVI[T_v_OVI>5]=5\n",
    "#T_v_CII[T_v_CII>5]=5\n",
    "#new_T_v_SiII=T_v_SiII\n",
    "#new_T_v_OVI=T_v_OVI\n",
    "#new_T_v_CII=T_v_CII"
   ]
  },
  {
   "cell_type": "code",
   "execution_count": 24,
   "metadata": {},
   "outputs": [],
   "source": [
    "fig = plt.figure(figsize=(7,6))\n",
    "ax = fig.add_axes([0.19,0.17,0.58,0.75])\n",
    "plt.plot(new_T_v_SiII, drawstyle='steps', alpha=0.90, color='grey',label ='Si II')\n",
    "plt.legend(loc='upper right')\n",
    "ax.set_xlabel('velocity $km/s$')\n",
    "ax.set_ylabel('$Tau$(v)')\n",
    "plt.show()"
   ]
  },
  {
   "cell_type": "code",
   "execution_count": 25,
   "metadata": {},
   "outputs": [],
   "source": [
    "fig = plt.figure(figsize=(7,6))\n",
    "ax = fig.add_axes([0.19,0.17,0.58,0.75])\n",
    "plt.plot(new_T_v_OVI, drawstyle='steps', alpha=0.90, color='black',label ='OV II')\n",
    "plt.legend(loc='upper right')\n",
    "ax.set_xlabel('velocity $km/s$')\n",
    "ax.set_ylabel('$Tau$(v)')\n",
    "plt.show()"
   ]
  },
  {
   "cell_type": "code",
   "execution_count": 26,
   "metadata": {},
   "outputs": [],
   "source": [
    "fig = plt.figure(figsize=(7,6))\n",
    "velocity=np.linspace(0,1200,100)\n",
    "ax = fig.add_axes([0.19,0.17,0.58,0.75])\n",
    "plt.plot(velocity, new_T_v_CII,drawstyle='steps', alpha=0.90, color='red',label ='C II')\n",
    "plt.plot(velocity, new_T_v_OVI, drawstyle='steps', alpha=0.90, color='black',label ='O VI')\n",
    "plt.plot(velocity, new_T_v_SiII, drawstyle='steps', alpha=0.90, color='grey',label ='Si II')\n",
    "plt.legend(loc='upper right')\n",
    "ax.set_xlabel('velocity $km/s$',fontsize=20)\n",
    "ax.set_ylabel(r'$\\tau_{OD}$',fontsize=20)\n",
    "matplotlib.rcParams.update({'font.size': 20})\n",
    "ax.set_xlim(0,800)\n",
    "plt.savefig(dnameout+'OptDepth_CII_OVI_SiII'+str(i)+'.png', dpi=300)\n",
    "plt.close(fig)\n",
    "plt.show()"
   ]
  },
  {
   "cell_type": "code",
   "execution_count": 27,
   "metadata": {},
   "outputs": [],
   "source": [
    "fig = plt.figure(figsize=(7,6))\n",
    "velocity=np.linspace(0,1200,100)\n",
    "ax = fig.add_axes([0.19,0.17,0.58,0.75])\n",
    "plt.plot(velocity, new_T_v_CII,drawstyle='steps', alpha=0.90, color='red',label ='C II')\n",
    "plt.plot(velocity, new_T_v_OVI, drawstyle='steps', alpha=0.90, color='black',label ='O VI')\n",
    "#plt.plot(velocity, new_T_v_SiII, drawstyle='steps', alpha=0.90, color='grey',label ='Si II')\n",
    "plt.legend(loc='upper right',fontsize=20)\n",
    "ax.set_xlabel('velocity $km/s$',fontsize=20)\n",
    "ax.set_ylabel(r'$\\tau_{OD}$',fontsize=20)\n",
    "matplotlib.rcParams.update({'font.size': 20})\n",
    "ax.set_xlim(0,800)\n",
    "plt.savefig(dnameout+'OptDepth_CII_OVI'+str(i)+'.png', dpi=300)\n",
    "plt.close(fig)\n",
    "plt.show()"
   ]
  },
  {
   "cell_type": "code",
   "execution_count": 28,
   "metadata": {},
   "outputs": [],
   "source": [
    "fig = plt.figure(figsize=(16,15))\n",
    "velocity=np.linspace(0,1200,100)\n",
    "ax = fig.add_axes([0.19,0.17,0.58,0.75])\n",
    "plt.plot(velocity, new_T_v_SiII,drawstyle='steps', alpha=0.90,linewidth=3.0, color='red',label ='Si II')\n",
    "plt.plot(velocity, new_T_v_OVI, drawstyle='steps', alpha=0.90,linewidth=4.0, color='black',label ='O VI')\n",
    "#plt.plot(velocity, new_T_v_SiII, drawstyle='steps', alpha=0.90, color='grey',label ='Si II')\n",
    "plt.legend(loc='upper right',fontsize=30)\n",
    "ax.set_xlabel('velocity $km/s$',fontsize=35)\n",
    "ax.set_ylabel(r'$\\tau_{OD}$',fontsize=35)\n",
    "matplotlib.rc('xtick', labelsize=30) \n",
    "matplotlib.rc('ytick', labelsize=30) \n",
    "ax.set_xlim(0,800,100)\n",
    "plt.savefig(dnameout+'OptDepth_SiII_OVI'+str(i)+'.png', dpi=300)\n",
    "plt.close(fig)\n",
    "plt.show()"
   ]
  },
  {
   "cell_type": "code",
   "execution_count": 31,
   "metadata": {},
   "outputs": [],
   "source": [
    "fig = plt.figure(figsize=(7,6))\n",
    "velocity=np.linspace(0,1200,100)\n",
    "ax = fig.add_axes([0.19,0.17,0.58,0.75])\n",
    "plt.plot(velocity, T_v_CII,drawstyle='steps', alpha=0.90, color='red',label ='C II')\n",
    "plt.plot(velocity, T_v_OVI, drawstyle='steps', alpha=0.90, color='black',label ='O VI')\n",
    "plt.plot(velocity, T_v_SiII, drawstyle='steps', alpha=0.90, color='grey',label ='Si II')\n",
    "plt.legend(loc='upper right')\n",
    "ax.set_xlabel('velocity $km/s$',fontsize=20)\n",
    "ax.set_ylabel(r'$\\tau_{OD}$',fontsize=20)\n",
    "matplotlib.rcParams.update({'font.size': 20})\n",
    "ax.set_xlim(0,800)\n",
    "plt.savefig(dnameout+'newplot'+str(i)+'.png', dpi=300)\n",
    "plt.close(fig)\n",
    "plt.show()"
   ]
  },
  {
   "cell_type": "code",
   "execution_count": null,
   "metadata": {},
   "outputs": [],
   "source": []
  },
  {
   "cell_type": "code",
   "execution_count": null,
   "metadata": {},
   "outputs": [],
   "source": []
  },
  {
   "cell_type": "code",
   "execution_count": null,
   "metadata": {},
   "outputs": [],
   "source": []
  },
  {
   "cell_type": "code",
   "execution_count": null,
   "metadata": {},
   "outputs": [],
   "source": []
  },
  {
   "cell_type": "code",
   "execution_count": null,
   "metadata": {},
   "outputs": [],
   "source": []
  },
  {
   "cell_type": "code",
   "execution_count": null,
   "metadata": {},
   "outputs": [],
   "source": []
  },
  {
   "cell_type": "code",
   "execution_count": null,
   "metadata": {},
   "outputs": [],
   "source": []
  }
 ],
 "metadata": {
  "kernelspec": {
   "display_name": "Python 3",
   "language": "python",
   "name": "python3"
  },
  "language_info": {
   "codemirror_mode": {
    "name": "ipython",
    "version": 3
   },
   "file_extension": ".py",
   "mimetype": "text/x-python",
   "name": "python",
   "nbconvert_exporter": "python",
   "pygments_lexer": "ipython3",
   "version": "3.6.5"
  }
 },
 "nbformat": 4,
 "nbformat_minor": 2
}
