{
 "cells": [
  {
   "cell_type": "code",
   "execution_count": 1,
   "metadata": {},
   "outputs": [
    {
     "name": "stderr",
     "output_type": "stream",
     "text": [
      "/Users/litadlc/anaconda3/lib/python3.6/site-packages/h5py/__init__.py:36: FutureWarning: Conversion of the second argument of issubdtype from `float` to `np.floating` is deprecated. In future, it will be treated as `np.float64 == np.dtype(float).type`.\n",
      "  from ._conv import register_converters as _register_converters\n"
     ]
    }
   ],
   "source": [
    "import h5py\n",
    "import numpy as np\n",
    "import matplotlib\n",
    "import sys\n",
    "#matplotlib.use('Agg')\n",
    "matplotlib.rcParams['mathtext.default'] = 'regular'\n",
    "import matplotlib.pyplot as plt\n",
    "from matplotlib.colors import LogNorm\n",
    "from PIL import Image\n",
    "from numpy import inf\n",
    "import numpy.ma as ma\n",
    "from numpy import *"
   ]
  },
  {
   "cell_type": "code",
   "execution_count": 2,
   "metadata": {},
   "outputs": [],
   "source": [
    "T_jkw_SiII=np.load('T_jkw_SiII.npy')\n",
    "T_jkw_SiIV=np.load('T_jkw_SiIV.npy')\n",
    "T_jkw_CII=np.load('T_jkw_CII.npy')\n",
    "T_jkw_CIV=np.load('T_jkw_CIV.npy')\n",
    "T_jkw_OVI=np.load('T_jkw_OVI.npy')\n",
    "T_jkw_NV=np.load('T_jkw_NV.npy')"
   ]
  },
  {
   "cell_type": "code",
   "execution_count": 3,
   "metadata": {},
   "outputs": [],
   "source": [
    "T_jks_SiII=np.load('T_jks_SiII.npy')\n",
    "T_jks_SiIV=np.load('T_jks_SiIV.npy')\n",
    "T_jks_CII=np.load('T_jks_CII.npy')\n",
    "T_jks_CIV=np.load('T_jks_CIV.npy')\n",
    "T_jks_OVI=np.load('T_jks_OVI.npy')\n",
    "T_jks_NV=np.load('T_jks_NV.npy')"
   ]
  },
  {
   "cell_type": "code",
   "execution_count": 4,
   "metadata": {},
   "outputs": [],
   "source": [
    "#Testing at a given line of sight\n",
    "#T_w_SiII_50=T_jkw_SiII[:,:,4]\n",
    "#T_w_SiII_50_rs=np.reshape(T_w_SiII_50,512*512)\n",
    "#k=0.1\n",
    "#count = sum(i > k for i in T_w_SiII_50_rs) \n",
    "\n",
    "#a=np.arange(0,10,1)\n",
    "#count=sum(i > 4 for i in a) \n",
    "#print(count)"
   ]
  },
  {
   "cell_type": "code",
   "execution_count": 5,
   "metadata": {},
   "outputs": [],
   "source": [
    "#k=0.1\n",
    "#total_cell_count=512*512\n",
    "#values_cf=[]\n",
    "#for v in range(len(vel)):\n",
    "    #T_w_SiII_test=T_jkw_SiII[:,:,vel[v]]\n",
    "    #reshape_T_w_SiII_test=np.reshape(T_w_SiII_test,512*512)\n",
    "    #count = sum(i > k for i in reshape_T_w_SiII_test) \n",
    "    #cf=count/total_cell_count\n",
    "    #values_cf.append(cf)   "
   ]
  },
  {
   "cell_type": "code",
   "execution_count": 6,
   "metadata": {},
   "outputs": [],
   "source": [
    "vel=np.arange(0,100,1)"
   ]
  },
  {
   "cell_type": "code",
   "execution_count": 7,
   "metadata": {},
   "outputs": [],
   "source": [
    "k=0.1\n",
    "total_cell_count=512*512\n",
    "sim_cf_SiII=[]\n",
    "count_values_SiII=[]\n",
    "\n",
    "for v in range(len(vel)):\n",
    "    T_SiII=T_jks_SiII[:,:,vel[v]]\n",
    "    reshape_T_SiII=np.reshape(T_SiII,512*512)\n",
    "    T=reshape_T_SiII>k\n",
    "    count = len(reshape_T_SiII[T])\n",
    "    cf=count/total_cell_count\n",
    "    sim_cf_SiII.append(cf)\n",
    "    count_values_SiII.append(count)"
   ]
  },
  {
   "cell_type": "code",
   "execution_count": 8,
   "metadata": {},
   "outputs": [],
   "source": [
    "k=0.1\n",
    "total_cell_count=512*512\n",
    "sim_cf_SiIV=[]\n",
    "count_values_SiIV=[]\n",
    "\n",
    "for v in range(len(vel)):\n",
    "    T_SiIV=T_jks_SiIV[:,:,vel[v]]\n",
    "    reshape_T_SiIV=np.reshape(T_SiIV,512*512)\n",
    "    T=reshape_T_SiIV>k\n",
    "    count = len(reshape_T_SiIV[T])\n",
    "    cf=count/total_cell_count\n",
    "    sim_cf_SiIV.append(cf)\n",
    "    count_values_SiIV.append(count)"
   ]
  },
  {
   "cell_type": "code",
   "execution_count": 9,
   "metadata": {},
   "outputs": [],
   "source": [
    "k=0.1\n",
    "total_cell_count=512*512\n",
    "sim_cf_CII=[]\n",
    "count_values_CII=[]\n",
    "\n",
    "for v in range(len(vel)):\n",
    "    T_CII=T_jks_CII[:,:,vel[v]]\n",
    "    reshape_T_CII=np.reshape(T_CII,512*512)\n",
    "    T=reshape_T_CII>k\n",
    "    count = len(reshape_T_CII[T])\n",
    "    cf=count/total_cell_count\n",
    "    sim_cf_CII.append(cf)\n",
    "    count_values_CII.append(count)"
   ]
  },
  {
   "cell_type": "code",
   "execution_count": 10,
   "metadata": {},
   "outputs": [],
   "source": [
    "k=0.1\n",
    "total_cell_count=512*512\n",
    "sim_cf_CIV=[]\n",
    "count_values_CIV=[]\n",
    "\n",
    "for v in range(len(vel)):\n",
    "    T_CIV=T_jks_CIV[:,:,vel[v]]\n",
    "    reshape_T_CIV=np.reshape(T_CIV,512*512)\n",
    "    T=reshape_T_CIV>k\n",
    "    count = len(reshape_T_CIV[T])\n",
    "    cf=count/total_cell_count\n",
    "    sim_cf_CIV.append(cf)\n",
    "    count_values_CIV.append(count)"
   ]
  },
  {
   "cell_type": "code",
   "execution_count": 11,
   "metadata": {},
   "outputs": [],
   "source": [
    "k=0.1\n",
    "total_cell_count=512*512\n",
    "sim_cf_OVI=[]\n",
    "count_values_OVI=[]\n",
    "\n",
    "for v in range(len(vel)):\n",
    "    T_OVI=T_jks_OVI[:,:,vel[v]]\n",
    "    reshape_T_OVI=np.reshape(T_OVI,512*512)\n",
    "    T=reshape_T_OVI>k\n",
    "    count = len(reshape_T_OVI[T])\n",
    "    cf=count/total_cell_count\n",
    "    sim_cf_OVI.append(cf)\n",
    "    count_values_OVI.append(count)"
   ]
  },
  {
   "cell_type": "code",
   "execution_count": 12,
   "metadata": {},
   "outputs": [],
   "source": [
    "k=0.01\n",
    "total_cell_count=512*512\n",
    "sim_cf_NV=[]\n",
    "count_values_NV=[]\n",
    "\n",
    "for v in range(len(vel)):\n",
    "    T_NV=T_jks_NV[:,:,vel[v]]\n",
    "    reshape_T_NV=np.reshape(T_NV,512*512)\n",
    "    T=reshape_T_NV>k\n",
    "    count = len(reshape_T_NV[T])\n",
    "    cf=count/total_cell_count\n",
    "    sim_cf_NV.append(cf)\n",
    "    count_values_NV.append(count)"
   ]
  },
  {
   "cell_type": "code",
   "execution_count": 13,
   "metadata": {},
   "outputs": [],
   "source": [
    "np.save('sim_cf_SiII',sim_cf_SiII)\n",
    "np.save('sim_cf_SiIV',sim_cf_SiIV)\n",
    "np.save('sim_cf_CII',sim_cf_CII)\n",
    "np.save('sim_cf_CIV',sim_cf_CIV)\n",
    "np.save('sim_cf_OVI',sim_cf_OVI)\n",
    "np.save('sim_cf_NV',sim_cf_NV)"
   ]
  },
  {
   "cell_type": "code",
   "execution_count": 14,
   "metadata": {},
   "outputs": [],
   "source": [
    "avgf_s_absorbed_SiII_dx = np.load('avgf_s_absorbed_SiII_dx.npy')\n",
    "avgf_w_absorbed_SiII_dx = np.load('avgf_w_absorbed_SiII_dx.npy')\n",
    "\n",
    "avgf_s_absorbed_SiIV_dx = np.load('avgf_s_absorbed_SiIV_dx.npy')\n",
    "avgf_w_absorbed_SiIV_dx = np.load('avgf_w_absorbed_SiIV_dx.npy')\n",
    "\n",
    "avgf_s_absorbed_OVI_dx = np.load('avgf_s_absorbed_OVI_dx.npy')\n",
    "avgf_w_absorbed_OVI_dx = np.load('avgf_w_absorbed_OVI_dx.npy')\n",
    "\n",
    "avgf_s_absorbed_CII_dx = np.load('avgf_s_absorbed_CII_dx.npy')\n",
    "avgf_w_absorbed_CII_dx = np.load('avgf_w_absorbed_CII_dx.npy')\n",
    "\n",
    "avgf_s_absorbed_CIV_dx = np.load('avgf_s_absorbed_CIV_dx.npy')\n",
    "avgf_w_absorbed_CIV_dx = np.load('avgf_w_absorbed_CIV_dx.npy')\n",
    "\n",
    "avgf_s_absorbed_NV_dx = np.load('avgf_s_absorbed_NV_dx.npy')\n",
    "avgf_w_absorbed_NV_dx = np.load('avgf_w_absorbed_NV_dx.npy')"
   ]
  },
  {
   "cell_type": "code",
   "execution_count": 15,
   "metadata": {},
   "outputs": [
    {
     "name": "stderr",
     "output_type": "stream",
     "text": [
      "/Users/litadlc/anaconda3/lib/python3.6/site-packages/ipykernel_launcher.py:1: RuntimeWarning: divide by zero encountered in true_divide\n",
      "  \"\"\"Entry point for launching an IPython kernel.\n",
      "/Users/litadlc/anaconda3/lib/python3.6/site-packages/ipykernel_launcher.py:1: RuntimeWarning: invalid value encountered in true_divide\n",
      "  \"\"\"Entry point for launching an IPython kernel.\n",
      "/Users/litadlc/anaconda3/lib/python3.6/site-packages/ipykernel_launcher.py:2: RuntimeWarning: invalid value encountered in true_divide\n",
      "  \n",
      "/Users/litadlc/anaconda3/lib/python3.6/site-packages/ipykernel_launcher.py:3: RuntimeWarning: invalid value encountered in true_divide\n",
      "  This is separate from the ipykernel package so we can avoid doing imports until\n",
      "/Users/litadlc/anaconda3/lib/python3.6/site-packages/ipykernel_launcher.py:4: RuntimeWarning: divide by zero encountered in true_divide\n",
      "  after removing the cwd from sys.path.\n",
      "/Users/litadlc/anaconda3/lib/python3.6/site-packages/ipykernel_launcher.py:4: RuntimeWarning: invalid value encountered in true_divide\n",
      "  after removing the cwd from sys.path.\n",
      "/Users/litadlc/anaconda3/lib/python3.6/site-packages/ipykernel_launcher.py:5: RuntimeWarning: divide by zero encountered in true_divide\n",
      "  \"\"\"\n",
      "/Users/litadlc/anaconda3/lib/python3.6/site-packages/ipykernel_launcher.py:5: RuntimeWarning: invalid value encountered in true_divide\n",
      "  \"\"\"\n",
      "/Users/litadlc/anaconda3/lib/python3.6/site-packages/ipykernel_launcher.py:6: RuntimeWarning: invalid value encountered in true_divide\n",
      "  \n"
     ]
    }
   ],
   "source": [
    "c_SiII_dx=((avgf_w_absorbed_SiII_dx-1.)**2.)/(avgf_s_absorbed_SiII_dx-1.-(2.*(avgf_w_absorbed_SiII_dx-1.)))\n",
    "c_SiIV_dx=((avgf_w_absorbed_SiIV_dx-1.)**2.)/(avgf_s_absorbed_SiIV_dx-1.-(2.*(avgf_w_absorbed_SiIV_dx-1.)))\n",
    "c_OVI_dx=((avgf_w_absorbed_OVI_dx-1.)**2.)/(avgf_s_absorbed_OVI_dx-1.-(2.*(avgf_w_absorbed_OVI_dx-1.)))\n",
    "c_CII_dx=((avgf_w_absorbed_CII_dx-1.)**2.)/(avgf_s_absorbed_CII_dx-1.-(2.*(avgf_w_absorbed_CII_dx-1.)))\n",
    "c_CIV_dx=((avgf_w_absorbed_CIV_dx-1.)**2.)/(avgf_s_absorbed_CIV_dx-1.-(2.*(avgf_w_absorbed_CIV_dx-1.)))\n",
    "c_NV_dx= ((avgf_w_absorbed_NV_dx-1.)**2.)/(avgf_s_absorbed_NV_dx-1.-(2.*(avgf_w_absorbed_NV_dx-1.)))"
   ]
  },
  {
   "cell_type": "code",
   "execution_count": 16,
   "metadata": {},
   "outputs": [],
   "source": [
    "where_are_NaNs1 = isnan(c_SiIV_dx)\n",
    "where_are_NaNs2 = isnan(c_SiII_dx)\n",
    "where_are_NaNs3 = isnan(c_OVI_dx)\n",
    "where_are_NaNs4 = isnan(c_CII_dx)\n",
    "where_are_NaNs5 = isnan(c_CIV_dx)\n",
    "where_are_NaNs6 = isnan(c_NV_dx)\n",
    "\n",
    "c_SiIV_dx[where_are_NaNs1] = 0\n",
    "c_SiII_dx[where_are_NaNs2] = 0\n",
    "c_OVI_dx[where_are_NaNs3] = 0\n",
    "c_CII_dx[where_are_NaNs4] = 0\n",
    "c_CIV_dx[where_are_NaNs5] = 0\n",
    "c_NV_dx[where_are_NaNs6] = 0\n",
    "\n",
    "c_SiII_dx[c_SiII_dx == inf] = 0\n",
    "c_CII_dx[c_CII_dx== inf] = 0\n",
    "c_SiIV_dx[c_SiIV_dx == inf] = 0\n",
    "c_CIV_dx[c_CIV_dx == inf] = 0\n",
    "c_OVI_dx[c_OVI_dx == inf] = 0\n",
    "c_NV_dx[c_NV_dx == inf] = 0"
   ]
  },
  {
   "cell_type": "code",
   "execution_count": 17,
   "metadata": {},
   "outputs": [
    {
     "data": {
      "text/plain": [
       "<Figure size 720x648 with 0 Axes>"
      ]
     },
     "metadata": {},
     "output_type": "display_data"
    },
    {
     "data": {
      "image/png": "[encoded data removed]",
      "text/plain": [
       "<Figure size 720x648 with 6 Axes>"
      ]
     },
     "metadata": {},
     "output_type": "display_data"
    }
   ],
   "source": [
    "fig = plt.figure(figsize=(10,9))\n",
    "velocity=np.linspace(0,1200,100)\n",
    "f, ((ax1, ax2), (ax3, ax4),(ax5,ax6)) = plt.subplots(3, 2, sharex='col', sharey='row',figsize=(10,9))\n",
    "ax1.plot(velocity, c_SiII_dx,drawstyle='steps', alpha=0.50,linewidth=7.0, color='blue',label ='Si II Empirical')\n",
    "ax1.plot(velocity, sim_cf_SiII,'--',drawstyle='steps', alpha=0.95,linewidth=3.0, color='blue',label ='Si II Direct ')\n",
    "ax2.plot(velocity, c_CII_dx,drawstyle='steps', alpha=0.50,linewidth=7.0, color='red',label ='C II Empirical')\n",
    "ax2.plot(velocity, sim_cf_CII,'--',drawstyle='steps', alpha=0.95,linewidth=3.0, color='red',label ='C II Direct')\n",
    "ax3.plot(velocity, c_SiIV_dx,drawstyle='steps', alpha=0.50,linewidth=7.0, color='green',label ='Si IV Empirical')\n",
    "ax3.plot(velocity, sim_cf_SiIV,'--',drawstyle='steps', alpha=0.95,linewidth=3.0, color='green',label ='Si IV Direct')\n",
    "ax4.plot(velocity, c_CIV_dx,drawstyle='steps', alpha=0.50,linewidth=7.0, color='purple',label ='C IV Empirical')\n",
    "ax4.plot(velocity, sim_cf_CIV,'--',drawstyle='steps', alpha=0.95,linewidth=3.0, color='purple',label ='C IV Direct')\n",
    "ax5.plot(velocity, c_NV_dx,drawstyle='steps', alpha=0.50,linewidth=7.0, color='pink',label ='N V Empirical')\n",
    "ax5.plot(velocity, sim_cf_NV,'--',drawstyle='steps', alpha=0.95,linewidth=3.0, color='pink',label ='N V Direct')\n",
    "ax6.plot(velocity, c_OVI_dx,drawstyle='steps', alpha=0.50,linewidth=7.0, color='black',label ='O VI Empirical')\n",
    "ax6.plot(velocity, sim_cf_OVI,'--',drawstyle='steps', alpha=0.95,linewidth=3.0, color='black',label ='O VI Direct')\n",
    "\n",
    "\n",
    "ax1.set_ylim(0,0.01,0.002)\n",
    "ax2.set_ylim(0,0.01,0.002)\n",
    "ax3.set_ylim(0,0.01,0.002)\n",
    "ax4.set_ylim(0,0.01,0.002)\n",
    "ax5.set_ylim(0,0.01,0.002)\n",
    "ax6.set_ylim(0,0.01,0.002)\n",
    "\n",
    "ax5.set_xlim(0,500,100)\n",
    "ax6.set_xlim(0,500,100)\n",
    "\n",
    "ax1.legend(loc='upper right',fontsize=12)\n",
    "ax2.legend(loc='upper right',fontsize=12)\n",
    "ax3.legend(loc='upper right',fontsize=12)\n",
    "ax4.legend(loc='upper right',fontsize=12)\n",
    "ax5.legend(loc='upper right',fontsize=12)\n",
    "ax6.legend(loc='upper right',fontsize=12)\n",
    "ax5.set_xlabel('velocity $km/s$',fontsize=15)\n",
    "ax6.set_xlabel('velocity $km/s$',fontsize=15)\n",
    "ax3.set_ylabel(r'c$_{f}$',fontsize=20)\n",
    "matplotlib.rc('xtick', labelsize=15) \n",
    "matplotlib.rc('ytick', labelsize=15) \n",
    "#plt.savefig(dnameout+'CoveringFraction_Sim_Ob_newtemp_'+str(i)+'.png', dpi=300)\n",
    "#plt.close(fig)\n",
    "plt.show()"
   ]
  }
 ],
 "metadata": {
  "kernelspec": {
   "display_name": "Python 3",
   "language": "python",
   "name": "python3"
  },
  "language_info": {
   "codemirror_mode": {
    "name": "ipython",
    "version": 3
   },
   "file_extension": ".py",
   "mimetype": "text/x-python",
   "name": "python",
   "nbconvert_exporter": "python",
   "pygments_lexer": "ipython3",
   "version": "3.6.5"
  }
 },
 "nbformat": 4,
 "nbformat_minor": 2
}
