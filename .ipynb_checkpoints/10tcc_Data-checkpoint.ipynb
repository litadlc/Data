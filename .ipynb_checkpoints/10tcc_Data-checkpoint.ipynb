{
 "cells": [
  {
   "cell_type": "code",
   "execution_count": 1,
   "metadata": {},
   "outputs": [
    {
     "name": "stderr",
     "output_type": "stream",
     "text": [
      "/Users/litadlc/anaconda3/lib/python3.6/site-packages/h5py/__init__.py:36: FutureWarning: Conversion of the second argument of issubdtype from `float` to `np.floating` is deprecated. In future, it will be treated as `np.float64 == np.dtype(float).type`.\n",
      "  from ._conv import register_converters as _register_converters\n"
     ]
    }
   ],
   "source": [
    "import h5py\n",
    "import numpy as np\n",
    "import matplotlib\n",
    "matplotlib.use('Agg')\n",
    "matplotlib.rcParams['mathtext.default'] = 'regular'\n",
    "import matplotlib.pyplot as plt\n",
    "from matplotlib.colors import LogNorm\n",
    "from PIL import Image\n",
    "import numpy.ma as ma\n",
    "from tempfile import TemporaryFile\n",
    "from numpy import *"
   ]
  },
  {
   "cell_type": "code",
   "execution_count": 2,
   "metadata": {},
   "outputs": [],
   "source": [
    "mp = 1.672622e-24 # mass of hydrogren atom, in grams\n",
    "kb = 1.380658e-16 # boltzmann constant in ergs/K\n",
    "\n",
    "d_c = mp # code density unit, 1 mp / cm^3\n",
    "l_c = 3.08567758e18 # code length unit, 1 pc in cm\n",
    "l_km = 3.08567758e13 # code length unit, 1pc in km\n",
    "t_c = 3.15569e10    # code time unit, 1 kyr in seconds\n",
    "v_c = l_c / t_c     # code velocity unit\n",
    "v_km = l_km / t_c     # code velocity unit\n",
    "p_c = d_c * v_c * v_c # code pressure unit\n",
    "m_c = d_c * l_c * l_c * l_c / 1.9891e33 # code mass unit to solar masses"
   ]
  },
  {
   "cell_type": "code",
   "execution_count": 3,
   "metadata": {},
   "outputs": [],
   "source": [
    "istart = 398 # starting file number\n",
    "iend   = 398 # ending file number\n",
    "dx = 5./64. # size scale, pc per cell\n",
    "t_cc = 39.8 # cloud crushing time in kyr, n = 0.5 cloud\n",
    "#t_cc = 56.4 # cloud crushing time in kyr, n = 1 cloud\n",
    "dnamein='/Users/litadlc/Desktop/Data/' # directory where the file is located\n",
    "dnameout='/Users/litadlc/Desktop/10tcc/' # directory where the plot will be saved"
   ]
  },
  {
   "cell_type": "code",
   "execution_count": 4,
   "metadata": {},
   "outputs": [
    {
     "name": "stdout",
     "output_type": "stream",
     "text": [
      "398\n"
     ]
    }
   ],
   "source": [
    "for i in range(istart,iend+1,30):\n",
    "    print(i)\n",
    "f = h5py.File(dnamein+str(i)+'.h5', 'r') # open the hdf5 file for reading\n",
    "head = f.attrs # read the header attributes into structure, head\n",
    "gamma = head['gamma'][0] # ratio of specific heats\n",
    "t  = head['t'][0] # time of this snapshot, in kyr\n",
    "nx = head['dims'][0] # number of cells in the x direction\n",
    "ny = head['dims'][1] # number of cells in the y direction\n",
    "nz = head['dims'][2] # number of cells in the z direction\n",
    "d  = f['density'][:]\n",
    "mx = f['momentum_x'][:]\n",
    "#E = f['Energy'][:]\n",
    "GE = f['GasEnergy'][:] # internal energy in code units, d*e\n",
    "f.close()"
   ]
  },
  {
   "cell_type": "code",
   "execution_count": 5,
   "metadata": {},
   "outputs": [],
   "source": [
    "mu = 1.0 # mean molecular weight (mu) of 1\n",
    "den = d*d_c # to convert from code units to cgs, multiply by the code unit for that variable)\n",
    "f_h=0.74 #solar metallicity\n",
    "nFe_nH=2.82e-5\n",
    "nSi_nH=3.47e-5\n",
    "nO_nH=4.90e-4\n",
    "nC_nH=2.45e-4\n",
    "nAl_nH=2.95e-6\n",
    "nN_nH=8.51e-5\n",
    "nS_nH=1.84e-5\n",
    "#Calculation number density for each particular species\n",
    "n_Fe = f_h*(den/(mu*mp))*(nFe_nH)\n",
    "n_Si1 = f_h*(den/(mu*mp))*(nSi_nH)\n",
    "n_Si2 = f_h*(den/(mu*mp))*(nSi_nH)\n",
    "n_O1 = f_h*(den/(mu*mp))*(nO_nH)\n",
    "n_O2 = f_h*(den/(mu*mp))*(nO_nH)\n",
    "n_C1 = f_h*(den/(mu*mp))*(nC_nH)\n",
    "n_C2 = f_h*(den/(mu*mp))*(nC_nH)\n",
    "n_N = f_h*(den/(mu*mp))*(nN_nH)\n",
    "n_S = f_h*(den/(mu*mp))*(nS_nH)\n",
    "n_Al = f_h*(den/(mu*mp))*(nAl_nH)"
   ]
  },
  {
   "cell_type": "code",
   "execution_count": 6,
   "metadata": {},
   "outputs": [],
   "source": [
    "T = (GE*(gamma-1.0)*p_c)/(d*kb)\n",
    "log_T = np.log10(T)"
   ]
  },
  {
   "cell_type": "code",
   "execution_count": 7,
   "metadata": {},
   "outputs": [],
   "source": [
    "FeII = ma.masked_outside(log_T,4.05,4.15)\n",
    "SiII = ma.masked_outside(log_T,3.92,4.08)\n",
    "SiIV =  ma.masked_outside(log_T,4.30,4.45)\n",
    "OVI = ma.masked_outside(log_T,5.4,5.5)\n",
    "OI = ma.masked_outside(log_T,4.0,4.15)\n",
    "CII = ma.masked_outside(log_T,4.35,4.48)\n",
    "CIV = ma.masked_outside(log_T,4.95,5.10)\n",
    "NV =  ma.masked_outside(log_T,5.20,5.35)\n",
    "SII =  ma.masked_outside(log_T,4.20,4.35)"
   ]
  },
  {
   "cell_type": "code",
   "execution_count": 8,
   "metadata": {},
   "outputs": [],
   "source": [
    "FeII_mask = ma.getmask(FeII)\n",
    "SiII_mask = ma.getmask(SiII)\n",
    "SiIV_mask = ma.getmask(SiIV)\n",
    "OI_mask = ma.getmask(OI)\n",
    "OVI_mask = ma.getmask(OVI)\n",
    "CII_mask = ma.getmask(CII)\n",
    "CIV_mask = ma.getmask(CIV)\n",
    "NV_mask = ma.getmask(NV)\n",
    "SII_mask = ma.getmask(SII)"
   ]
  },
  {
   "cell_type": "code",
   "execution_count": 9,
   "metadata": {},
   "outputs": [],
   "source": [
    "n_Fe[FeII_mask] = 10e-20\n",
    "n_Si1[SiII_mask] = 10e-20\n",
    "n_Si2[SiIV_mask] = 10e-20\n",
    "n_O1[OI_mask] = 10e-20\n",
    "n_O2[OVI_mask] = 10e-20\n",
    "n_C1[CII_mask] = 10e-20\n",
    "n_C2[CIV_mask] = 10e-20\n",
    "n_N[NV_mask] = 10e-20\n",
    "n_S[SII_mask] = 10e-20"
   ]
  },
  {
   "cell_type": "code",
   "execution_count": 20,
   "metadata": {},
   "outputs": [],
   "source": [
    "#Number density\n",
    "n_FeII = n_Fe\n",
    "n_SiII = n_Si1\n",
    "n_SiIV = n_Si2\n",
    "n_OI   = n_O1\n",
    "n_OVI  = n_O2\n",
    "n_CII  = n_C1\n",
    "n_CIV  = n_C2\n",
    "n_NV   = n_N\n",
    "n_SII  = n_S"
   ]
  },
  {
   "cell_type": "code",
   "execution_count": 11,
   "metadata": {},
   "outputs": [],
   "source": [
    "#Velocity array\n",
    "vx = ((mx)/(d))*v_km #in km along the x-axis"
   ]
  },
  {
   "cell_type": "code",
   "execution_count": 12,
   "metadata": {},
   "outputs": [],
   "source": [
    "#Creating a j,k,vel array\n",
    "values_SiII=np.zeros((ny,nz,100))\n",
    "for j in range(0,ny):\n",
    "    for k in range(0,nz):\n",
    "        n_SiII_1D=n_SiII[:,j,k]\n",
    "        vel_SiII=vx[:,j,k]\n",
    "        values_SiII[j,k,:],b=np.histogram(vel_SiII,bins=100,weights=n_SiII_1D,range=(0,1200))"
   ]
  },
  {
   "cell_type": "code",
   "execution_count": 13,
   "metadata": {},
   "outputs": [],
   "source": [
    "#Creating a j,k,vel array\n",
    "values_SiIV=np.zeros((ny,nz,100))\n",
    "for j in range(0,ny):\n",
    "    for k in range(0,nz):\n",
    "        n_SiIV_1D=n_SiIV[:,j,k]\n",
    "        vel_SiIV=vx[:,j,k]\n",
    "        values_SiIV[j,k,:],b=np.histogram(vel_SiIV,bins=100,weights=n_SiIV_1D,range=(0,1200))"
   ]
  },
  {
   "cell_type": "code",
   "execution_count": 14,
   "metadata": {},
   "outputs": [],
   "source": [
    "values_OI=np.zeros((ny,nz,100))\n",
    "for j in range(0,ny):\n",
    "    for k in range(0,nz):\n",
    "        n_OI_1D=n_OI[:,j,k]\n",
    "        vel_OI=vx[:,j,k]\n",
    "        values_OI[j,k,:],b=np.histogram(vel_OI,bins=100,weights=n_OI_1D,range=(0,1200))"
   ]
  },
  {
   "cell_type": "code",
   "execution_count": 15,
   "metadata": {},
   "outputs": [],
   "source": [
    "values_OVI=np.zeros((ny,nz,100))\n",
    "for j in range(0,ny):\n",
    "    for k in range(0,nz):\n",
    "        n_OVI_1D=n_OVI[:,j,k]\n",
    "        vel_OVI=vx[:,j,k]\n",
    "        values_OVI[j,k,:],b=np.histogram(vel_OVI,bins=100,weights=n_OVI_1D,range=(0,1200))"
   ]
  },
  {
   "cell_type": "code",
   "execution_count": 16,
   "metadata": {},
   "outputs": [],
   "source": [
    "values_CII=np.zeros((ny,nz,100))\n",
    "for j in range(0,ny):\n",
    "    for k in range(0,nz):\n",
    "        n_CII_1D=n_CII[:,j,k]\n",
    "        vel_CII=vx[:,j,k]\n",
    "        values_CII[j,k,:],b=np.histogram(vel_CII,bins=100,weights=n_CII_1D,range=(0,1200))"
   ]
  },
  {
   "cell_type": "code",
   "execution_count": 17,
   "metadata": {},
   "outputs": [],
   "source": [
    "values_CIV=np.zeros((ny,nz,100))\n",
    "for j in range(0,ny):\n",
    "    for k in range(0,nz):\n",
    "        n_CIV_1D=n_CIV[:,j,k]\n",
    "        vel_CIV=vx[:,j,k]\n",
    "        values_CIV[j,k,:],b=np.histogram(vel_CIV,bins=100,weights=n_CIV_1D,range=(0,1200))"
   ]
  },
  {
   "cell_type": "code",
   "execution_count": 18,
   "metadata": {},
   "outputs": [],
   "source": [
    "values_NV=np.zeros((ny,nz,100))\n",
    "for j in range(0,ny):\n",
    "    for k in range(0,nz):\n",
    "        n_NV_1D=n_NV[:,j,k]\n",
    "        vel_NV=vx[:,j,k]\n",
    "        values_NV[j,k,:],b=np.histogram(vel_NV,bins=100,weights=n_NV_1D,range=(0,1200))"
   ]
  },
  {
   "cell_type": "code",
   "execution_count": 21,
   "metadata": {},
   "outputs": [],
   "source": [
    "values_SII=np.zeros((ny,nz,100))\n",
    "for j in range(0,ny):\n",
    "    for k in range(0,nz):\n",
    "        n_SII_1D=n_SII[:,j,k]\n",
    "        vel_SII=vx[:,j,k]\n",
    "        values_SII[j,k,:],b=np.histogram(vel_SII,bins=100,weights=n_SII_1D,range=(0,1200))"
   ]
  },
  {
   "cell_type": "code",
   "execution_count": 22,
   "metadata": {},
   "outputs": [],
   "source": [
    "np.save('n_v_SiII',values_SiII)\n",
    "np.save('n_v_SiIV',values_SiIV)\n",
    "np.save('n_v_OI',values_OI)\n",
    "np.save('n_v_OVI',values_OVI)\n",
    "np.save('n_v_CII',values_CII)\n",
    "np.save('n_v_CIV',values_CIV)\n",
    "np.save('n_v_NV',values_NV)\n",
    "np.save('n_v_SII',values_SII)"
   ]
  },
  {
   "cell_type": "code",
   "execution_count": null,
   "metadata": {},
   "outputs": [],
   "source": []
  },
  {
   "cell_type": "code",
   "execution_count": null,
   "metadata": {},
   "outputs": [],
   "source": []
  }
 ],
 "metadata": {
  "kernelspec": {
   "display_name": "Python 3",
   "language": "python",
   "name": "python3"
  },
  "language_info": {
   "codemirror_mode": {
    "name": "ipython",
    "version": 3
   },
   "file_extension": ".py",
   "mimetype": "text/x-python",
   "name": "python",
   "nbconvert_exporter": "python",
   "pygments_lexer": "ipython3",
   "version": "3.6.5"
  }
 },
 "nbformat": 4,
 "nbformat_minor": 2
}
