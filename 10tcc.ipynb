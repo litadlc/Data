{
 "cells": [
  {
   "cell_type": "code",
   "execution_count": 1,
   "metadata": {},
   "outputs": [
    {
     "name": "stderr",
     "output_type": "stream",
     "text": [
      "/Users/litadlc/anaconda3/lib/python3.6/site-packages/h5py/__init__.py:36: FutureWarning: Conversion of the second argument of issubdtype from `float` to `np.floating` is deprecated. In future, it will be treated as `np.float64 == np.dtype(float).type`.\n",
      "  from ._conv import register_converters as _register_converters\n"
     ]
    }
   ],
   "source": [
    "import h5py\n",
    "import numpy as np\n",
    "import matplotlib\n",
    "matplotlib.use('Agg')\n",
    "matplotlib.rcParams['mathtext.default'] = 'regular'\n",
    "import matplotlib.pyplot as plt\n",
    "from matplotlib.colors import LogNorm\n",
    "from PIL import Image\n",
    "import numpy.ma as ma\n",
    "from tempfile import TemporaryFile"
   ]
  },
  {
   "cell_type": "code",
   "execution_count": 2,
   "metadata": {},
   "outputs": [],
   "source": [
    "mp = 1.672622e-24 # mass of hydrogren atom, in grams\n",
    "kb = 1.380658e-16 # boltzmann constant in ergs/K\n",
    "\n",
    "d_c = mp # code density unit, 1 mp / cm^3\n",
    "l_c = 3.08567758e18 # code length unit, 1 pc in cm\n",
    "l_km = 3.08567758e13 # code length unit, 1pc in km\n",
    "t_c = 3.15569e10    # code time unit, 1 kyr in seconds\n",
    "v_c = l_c / t_c     # code velocity unit\n",
    "v_km = l_km / t_c     # code velocity unit\n",
    "p_c = d_c * v_c * v_c # code pressure unit\n",
    "m_c = d_c * l_c * l_c * l_c / 1.9891e33 # code mass unit to solar masses"
   ]
  },
  {
   "cell_type": "code",
   "execution_count": 3,
   "metadata": {},
   "outputs": [],
   "source": [
    "istart = 398 # starting file number\n",
    "iend   = 398 # ending file number\n",
    "dx = 5./64. # size scale, pc per cell\n",
    "t_cc = 39.8 # cloud crushing time in kyr, n = 0.5 cloud\n",
    "#t_cc = 56.4 # cloud crushing time in kyr, n = 1 cloud\n",
    "dnamein='/Users/litadlc/Desktop/Data/' # directory where the file is located\n",
    "dnameout='/Users/litadlc/Desktop/10tcc/' # directory where the plot will be saved"
   ]
  },
  {
   "cell_type": "code",
   "execution_count": 4,
   "metadata": {},
   "outputs": [
    {
     "name": "stdout",
     "output_type": "stream",
     "text": [
      "398\n"
     ]
    }
   ],
   "source": [
    "for i in range(istart,iend+1,30):\n",
    "    print(i)\n",
    "f = h5py.File(dnamein+str(i)+'.h5', 'r') # open the hdf5 file for reading\n",
    "head = f.attrs # read the header attributes into structure, head\n",
    "gamma = head['gamma'][0] # ratio of specific heats\n",
    "t  = head['t'][0] # time of this snapshot, in kyr\n",
    "nx = head['dims'][0] # number of cells in the x direction\n",
    "ny = head['dims'][1] # number of cells in the y direction\n",
    "nz = head['dims'][2] # number of cells in the z direction\n",
    "d  = f['density'][:]\n",
    "mx = f['momentum_x'][:]\n",
    "#E = f['Energy'][:]\n",
    "GE = f['GasEnergy'][:] # internal energy in code units, d*e\n",
    "f.close()"
   ]
  },
  {
   "cell_type": "code",
   "execution_count": 5,
   "metadata": {},
   "outputs": [],
   "source": [
    "mu = 1.0 # mean molecular weight (mu) of 1\n",
    "den = d*d_c # to convert from code units to cgs, multiply by the code unit for that variable)\n",
    "f_h=0.74 #solar metallicity\n",
    "nFe_nH=2.82e-5\n",
    "nSi_nH=3.47e-5\n",
    "nO_nH=4.90e-4\n",
    "nC_nH=2.45e-4\n",
    "nAl_nH=2.95e-6\n",
    "\n",
    "n_Fe = f_h*(den/(mu*mp))*(nFe_nH)\n",
    "n_Si = f_h*(den/(mu*mp))*(nSi_nH)\n",
    "n_O = f_h*(den/(mu*mp))*(nO_nH)\n",
    "n_C = f_h*(den/(mu*mp))*(nC_nH)\n",
    "n_Al = f_h*(den/(mu*mp))*(nAl_nH)"
   ]
  },
  {
   "cell_type": "code",
   "execution_count": 6,
   "metadata": {},
   "outputs": [],
   "source": [
    "T = (GE*(gamma-1.0)*p_c)/(d*kb)\n",
    "log_T = np.log10(T)"
   ]
  },
  {
   "cell_type": "code",
   "execution_count": 7,
   "metadata": {},
   "outputs": [],
   "source": [
    "FeII = ma.masked_outside(log_T,4.05,4.15)\n",
    "SiII = ma.masked_outside(log_T,3.92,4.08)\n",
    "OVI = ma.masked_outside(log_T,5.4,5.5)\n",
    "CII = ma.masked_outside(log_T,4.35,4.48)"
   ]
  },
  {
   "cell_type": "code",
   "execution_count": 8,
   "metadata": {},
   "outputs": [],
   "source": [
    "FeII_mask = ma.getmask(FeII)\n",
    "SiII_mask = ma.getmask(SiII)\n",
    "OVI_mask = ma.getmask(OVI)\n",
    "CII_mask = ma.getmask(CII)"
   ]
  },
  {
   "cell_type": "code",
   "execution_count": 9,
   "metadata": {},
   "outputs": [],
   "source": [
    "n_Fe[FeII_mask] = 10e-20\n",
    "n_Si[SiII_mask] = 10e-20\n",
    "n_O[OVI_mask] = 10e-20\n",
    "n_C[CII_mask] = 10e-20"
   ]
  },
  {
   "cell_type": "code",
   "execution_count": 10,
   "metadata": {},
   "outputs": [],
   "source": [
    "dr=4.94e20 #in cm"
   ]
  },
  {
   "cell_type": "code",
   "execution_count": null,
   "metadata": {},
   "outputs": [],
   "source": []
  },
  {
   "cell_type": "code",
   "execution_count": 11,
   "metadata": {},
   "outputs": [],
   "source": [
    "N_FeII = np.sum(n_Fe, axis=0)*dr\n",
    "N_FeII_log=np.log10(N_FeII)\n",
    "N_SiII = np.sum(n_Si, axis=0)*dr\n",
    "N_SiII_log=np.log10(N_SiII)\n",
    "N_OVI = np.sum(n_O, axis=0)*dr\n",
    "N_OVI_log=np.log10(N_OVI)\n",
    "N_CII = np.sum(n_C, axis=0)*dr\n",
    "N_CII_log=np.log10(N_CII)"
   ]
  },
  {
   "cell_type": "code",
   "execution_count": 12,
   "metadata": {},
   "outputs": [
    {
     "name": "stdout",
     "output_type": "stream",
     "text": [
      "n range FeII   = 4.937182e+01 3.743372e+14\n",
      "n range SiII   = 1.011732e+05 1.391402e+18\n",
      "n range OVI   = 1.011732e+05 4.869350e+17\n",
      "n range CII   = 1.011732e+05 8.859425e+17\n",
      "N range FeII   =  1.69 14.57\n",
      "N range SiII  =  5.01 18.14\n",
      "N range OVI   =  5.01 17.69\n",
      "N range CII   =  5.01 17.95\n"
     ]
    }
   ],
   "source": [
    "print(\"n range FeII   = %e %e\" % (np.min(N_FeII),np.max(N_FeII)))\n",
    "print(\"n range SiII   = %e %e\" % (np.min(N_SiII),np.max(N_SiII)))\n",
    "print(\"n range OVI   = %e %e\" % (np.min(N_OVI),np.max(N_OVI)))\n",
    "print(\"n range CII   = %e %e\" % (np.min(N_CII),np.max(N_CII)))\n",
    "\n",
    "print(\"N range FeII   = %5.2f %5.2f\" % (np.min(N_FeII_log), np.max(N_FeII_log)))\n",
    "print(\"N range SiII  = %5.2f %5.2f\" % (np.min(N_SiII_log), np.max(N_SiII_log)))\n",
    "print(\"N range OVI   = %5.2f %5.2f\" % (np.min(N_OVI_log), np.max(N_OVI_log)))\n",
    "print(\"N range CII   = %5.2f %5.2f\" % (np.min(N_CII_log), np.max(N_CII_log)))"
   ]
  },
  {
   "cell_type": "code",
   "execution_count": 13,
   "metadata": {},
   "outputs": [],
   "source": [
    "pn_min_FeII=11\n",
    "pn_max_FeII=14.57\n",
    "\n",
    "pn_min_SiII=11\n",
    "pn_max_SiII=18.14\n",
    "\n",
    "pn_min_OVI=11\n",
    "pn_max_OVI=17.69\n",
    "\n",
    "pn_min_CII=11\n",
    "pn_max_CII=17.95"
   ]
  },
  {
   "cell_type": "code",
   "execution_count": 14,
   "metadata": {},
   "outputs": [],
   "source": [
    "np.save('N_SiII_log',N_SiII_log)\n",
    "np.save('N_OVI_log',N_OVI_log)\n",
    "np.save('N_CII_log',N_CII_log)"
   ]
  },
  {
   "cell_type": "code",
   "execution_count": 15,
   "metadata": {},
   "outputs": [],
   "source": [
    "np.save('N_SiII',n_Si)\n",
    "np.save('N_OVI',n_O)\n",
    "np.save('N_CII',n_C)"
   ]
  },
  {
   "cell_type": "code",
   "execution_count": 16,
   "metadata": {},
   "outputs": [],
   "source": [
    "N_FeII_x=n_Fe[:,260,260]\n",
    "N_SiII_x=n_Si[:,260,260]\n",
    "N_OVI_x=n_O[:,260,260]"
   ]
  },
  {
   "cell_type": "code",
   "execution_count": 17,
   "metadata": {},
   "outputs": [],
   "source": [
    "vx = ((mx)/(d))*v_km\n",
    "vx_260260=vx[250,:,:]"
   ]
  },
  {
   "cell_type": "code",
   "execution_count": 18,
   "metadata": {},
   "outputs": [],
   "source": [
    "np.save('vx',vx)"
   ]
  },
  {
   "cell_type": "code",
   "execution_count": 19,
   "metadata": {},
   "outputs": [],
   "source": [
    "v_hist_test = np.reshape(vx_260260, ny*nz)"
   ]
  },
  {
   "cell_type": "code",
   "execution_count": null,
   "metadata": {},
   "outputs": [],
   "source": []
  },
  {
   "cell_type": "code",
   "execution_count": 20,
   "metadata": {},
   "outputs": [],
   "source": [
    "fig =plt.figure(figsize=(11,12), frameon=False)\n",
    "ax = fig.add_axes([0,0,1,1])\n",
    "ax.set_xticks(2048*np.arange(0.1, 1, 0.1))\n",
    "ax.set_yticks(512*np.arange(0.25, 1, 0.25))\n",
    "ax.tick_params(axis='both', which='both', color='black', direction='in', labelleft=0, labelbottom=0, top=1, right=1,width=2)\n",
    "vx_slice=vx[:,:,256]\n",
    "plt.imshow(vx_slice.T,cmap='viridis',origin='lower')\n",
    "matplotlib.rcParams.update({'font.size': 15})\n",
    "\n",
    "matplotlib.rc('xtick', labelsize=15) \n",
    "cd=plt.colorbar(label='velocity $km/s$',orientation='horizontal')\n",
    "\n",
    "ax.text(64, 420, r'$\\tilde{n} = 0.5$ cloud ', color='black')\n",
    "ax.text(1800, 420, str(int(t/t_cc))+'$t_{cc}$', color='black')\n",
    "ax.text(1400, 75, r'2048x512x512 cells', color='black')\n",
    "plt.savefig(dnameout+'Slice_vx'+str(i)+'.png', dpi=300)\n",
    "plt.close(fig)\n",
    "plt.show()"
   ]
  },
  {
   "cell_type": "code",
   "execution_count": 21,
   "metadata": {},
   "outputs": [],
   "source": [
    "# numpy histogram functions like 1D arrays\n",
    "#n_hist = np.reshape(log_n, nx_10*ny_10*nz_10)\n",
    "mass = d*(dx**3)*m_c # mass in solar masses\n",
    "v_hist = np.reshape(vx, nx*ny*nz)\n",
    "m_hist = np.reshape(mass, nx*ny*nz)"
   ]
  },
  {
   "cell_type": "code",
   "execution_count": null,
   "metadata": {},
   "outputs": [],
   "source": []
  },
  {
   "cell_type": "code",
   "execution_count": 22,
   "metadata": {},
   "outputs": [],
   "source": [
    "xbins = np.linspace(0,1500,50)\n",
    "fig = plt.figure(figsize=(9,8))\n",
    "ax = fig.add_axes([0.19,0.17,0.58,0.75])\n",
    "n, bins, patches = ax.hist(v_hist,xbins,histtype = 'step',alpha=0.9,linewidth=3.0, color = 'purple',weights=m_hist)\n",
    "matplotlib.rc('xtick', labelsize=20) \n",
    "matplotlib.rc('ytick', labelsize=20)\n",
    "ax.set_xlabel('velocity $km/s$',fontsize=20)\n",
    "ax.set_ylabel('Total mass $M_{\\odot}$',fontsize=20)\n",
    "#ax.set_xlim(0,1500)\n",
    "# save the figure\n",
    "plt.savefig(dnameout+'1D_vel_m_'+str(i)+'.png', dpi=300)\n",
    "plt.close(fig)"
   ]
  },
  {
   "cell_type": "code",
   "execution_count": 23,
   "metadata": {},
   "outputs": [],
   "source": [
    "xbins = np.linspace(0,1500,50)\n",
    "fig = plt.figure(figsize=(9,8))\n",
    "ax = fig.add_axes([0.19,0.17,0.58,0.75])\n",
    "n, bins, patches = ax.hist(v_hist,xbins,histtype = 'step',alpha=0.9,linewidth=3.0, color = 'black')\n",
    "matplotlib.rc('xtick', labelsize=20) \n",
    "matplotlib.rc('ytick', labelsize=20)\n",
    "ax.set_xlabel('velocity $km/s$',fontsize=20)\n",
    "ax.set_ylabel('Volume $cm^{3}$',fontsize=20)\n",
    "\n",
    "# save the figure\n",
    "plt.savefig(dnameout+'1D_vel_vol_'+str(i)+'.png', dpi=300)\n",
    "plt.close(fig)"
   ]
  },
  {
   "cell_type": "code",
   "execution_count": 24,
   "metadata": {},
   "outputs": [],
   "source": [
    "# to create a projection, integrate the density array along one axis\n",
    "n = den/(mu*mp)\n",
    "pn_x = np.sum(n, axis=0)*dx*l_c\n",
    "pn_y = np.sum(n, axis=1)*dx*l_c"
   ]
  },
  {
   "cell_type": "code",
   "execution_count": 25,
   "metadata": {},
   "outputs": [
    {
     "name": "stdout",
     "output_type": "stream",
     "text": [
      "n range    = 5.868804e-04 5.532877e+02\n",
      "N range    = 18.30 20.85\n"
     ]
    }
   ],
   "source": [
    "# set the surface density scale\n",
    "log_pn_x = np.log10(pn_x)\n",
    "log_pn_y = np.log10(pn_y)\n",
    "print(\"n range    = %e %e\" % (np.min(n),np.max(n)))\n",
    "print(\"N range    = %5.2f %5.2f\" % (np.min(log_pn_x), np.max(log_pn_x)))\n",
    "pn_min=18.0\n",
    "pn_max=21.0"
   ]
  },
  {
   "cell_type": "code",
   "execution_count": 26,
   "metadata": {},
   "outputs": [],
   "source": [
    "# plot the surface density, x-axis projection\n",
    "fig = plt.figure(figsize=(10,10))\n",
    "a0 = fig.add_axes([0,0,0.67,1.0])\n",
    "a0.set_xticks(512*np.arange(0.25, 1, 0.25))\n",
    "a0.set_yticks(512*np.arange(0.25, 1, 0.25))\n",
    "a0.tick_params(axis='both', which='both', direction='in', color='white', labelleft=0, labelbottom=0, top=1, right=1,width=2)\n",
    "image = a0.imshow(log_pn_x.T, origin='lower', cmap='viridis', vmin=pn_min, vmax=pn_max)\n",
    "\n",
    "# add a circle showing the original extent of the cloud\n",
    "circle=plt.Circle((256,256),64,fill=False,edgecolor='white',linestyle='dashed',linewidth=2.0)\n",
    "fig.gca().add_artist(circle)\n",
    "\n",
    "# add a colorbar\n",
    "cbaxes = fig.add_axes([0.7, 0.17, 0.03, .66])\n",
    "cb = plt.colorbar(image, cax = cbaxes, ticks=[np.arange(18.2, 21.0, 0.5)])\n",
    "cbaxes.tick_params(axis='y', direction='in',width=2)\n",
    "cb.solids.set_edgecolor('face')\n",
    "cbaxes.set_ylabel('$log_{10}(N_{H})$ [$cm^{-2}$]')\n",
    "plt.show()\n",
    "\n",
    "# save the figure\n",
    "plt.savefig(dnameout+'sd_x_'+str(i)+'.png', dpi=300)\n",
    "plt.close(fig)"
   ]
  },
  {
   "cell_type": "code",
   "execution_count": 27,
   "metadata": {},
   "outputs": [],
   "source": [
    "np.save('n_FeII',n_Fe)\n",
    "np.save('n_SiII',n_Si)\n",
    "np.save('n_OVI',n_O)"
   ]
  },
  {
   "cell_type": "code",
   "execution_count": null,
   "metadata": {},
   "outputs": [],
   "source": []
  },
  {
   "cell_type": "code",
   "execution_count": 28,
   "metadata": {},
   "outputs": [],
   "source": [
    "# plot the surface density, y-axis projection\n",
    "fig = plt.figure(figsize=(10,7), frameon=False)\n",
    "a0 = fig.add_axes([0,0,1,1])\n",
    "a0.set_xticks(2048*np.arange(0.1, 1, 0.1))\n",
    "a0.set_yticks(512*np.arange(0.25, 1, 0.25))\n",
    "a0.tick_params(axis='both', which='both', color='white', direction='in', labelleft=0, labelbottom=0, top=1, right=1,width=2)\n",
    "image = a0.imshow(log_pn_y.T, origin='lower', cmap='viridis', vmin=pn_min, vmax=pn_max)\n",
    "a0.hlines(73, 64, 64+128, color='white')\n",
    "a0.text(64+140, 64, '10 pc', color='white')\n",
    "a0.text(64, 420, r'$\\tilde{n} = 0.5$ cloud ', color='white')\n",
    "a0.text(1800, 420, str(int(t/t_cc))+'$t_{cc}$', color='white')\n",
    "plt.show()\n",
    "\n",
    "plt.savefig(dnameout+'sd_y_'+str(i)+'.png', dpi=300)\n",
    "plt.close(fig)"
   ]
  },
  {
   "cell_type": "code",
   "execution_count": 29,
   "metadata": {},
   "outputs": [],
   "source": [
    "log_temp_1DH_10=np.reshape(log_T,nx*ny*nz)"
   ]
  },
  {
   "cell_type": "code",
   "execution_count": 30,
   "metadata": {},
   "outputs": [],
   "source": [
    "midT_SiII=np.where(np.logical_and(log_temp_1DH_10>=3.92, log_temp_1DH_10<=4.08))\n",
    "midT_OVI=np.where(np.logical_and(log_temp_1DH_10>=5.4, log_temp_1DH_10<=5.5))\n",
    "#midT_FeII=np.where(np.logical_and(log_temp_1DH_10>=4.05, log_temp_1DH_10<=4.15))\n",
    "#midT_CII=np.where(np.logical_and(log_temp_1DH_10>=4.3, log_temp_1DH_10<=4.45))"
   ]
  },
  {
   "cell_type": "code",
   "execution_count": 31,
   "metadata": {},
   "outputs": [],
   "source": [
    "xbins = np.linspace(0,1200,200)\n",
    "fig = plt.figure(figsize=(15,15))\n",
    "ax = fig.add_axes([0.19,0.17,0.58,0.75])\n",
    "#v_hist_midT_SiII=v_hist[midT_SiII]\n",
    "v_hist_midT_OVI=v_hist[midT_OVI]\n",
    "#v_hist_midT_FeII=v_hist[midT_FeII]\n",
    "#v_hist_midT_CII=v_hist[midT_CII]\n",
    "#m_hist_midT_SiII=m_hist[midT_SiII]\n",
    "m_hist_midT_OVI=m_hist[midT_OVI]\n",
    "#m_hist_midT_FeII=m_hist[midT_FeII]\n",
    "#m_hist_midT_CII=m_hist[midT_CII]\n",
    "#plt.hist(v_hist_midT_SiII,xbins,histtype = 'step', alpha=0.9,color='rematpd',label ='Si II',weights=m_hist_midT_SiII)\n",
    "#plt.hist(v_hist_midT_FeII,xbins,histtype = 'step', alpha=0.7,color='red',label ='Fe II',weights=m_hist_midT_FeII)\n",
    "#plt.hist(v_hist_midT_CII,xbins,histtype = 'step', alpha=0.9,color='red',label ='C II',weights=m_hist_midT_CII)\n",
    "plt.hist(v_hist_midT_OVI,xbins,histtype = 'step', alpha=0.9,linewidth=4.0,color='black',label ='O VI',weights=m_hist_midT_OVI)\n",
    "plt.legend(loc='upper right',fontsize=32)\n",
    "matplotlib.rc('xtick', labelsize=25) \n",
    "matplotlib.rc('ytick', labelsize=25)\n",
    "ax.set_xlabel('velocity $km/s$',fontsize=36)\n",
    "ax.set_ylabel('Total mass $M_{\\odot}$',fontsize=36)\n",
    "ax.set_xlim(0,500)\n",
    "plt.show()\n",
    "\n",
    "plt.savefig(dnameout+'1D_vel_mass_OVI'+str(i)+'.png', dpi=300)\n",
    "plt.close(fig)"
   ]
  },
  {
   "cell_type": "code",
   "execution_count": 32,
   "metadata": {},
   "outputs": [],
   "source": [
    "xbins = np.linspace(0,1200,200)\n",
    "fig = plt.figure(figsize=(15,15))\n",
    "ax = fig.add_axes([0.19,0.17,0.58,0.75])\n",
    "v_hist_midT_SiII=v_hist[midT_SiII]\n",
    "m_hist_midT_SiII=m_hist[midT_SiII]\n",
    "plt.hist(v_hist_midT_SiII,xbins,histtype = 'step', alpha=0.9,linewidth=4.0,color='red',label ='Si II',weights=m_hist_midT_SiII)\n",
    "plt.legend(loc='upper right',fontsize=32)\n",
    "matplotlib.rc('xtick', labelsize=25) \n",
    "matplotlib.rc('ytick', labelsize=25)\n",
    "ax.set_xlabel('velocity $km/s$',fontsize=36)\n",
    "ax.set_ylabel('Total mass $M_{\\odot}$',fontsize=36)\n",
    "ax.set_xlim(0,500)\n",
    "plt.show()\n",
    "\n",
    "plt.savefig(dnameout+'1D_vel_mass_SiII'+str(i)+'.png', dpi=300)\n",
    "plt.close(fig)"
   ]
  },
  {
   "cell_type": "code",
   "execution_count": 33,
   "metadata": {},
   "outputs": [
    {
     "ename": "ValueError",
     "evalue": "weights should have the same shape as x",
     "output_type": "error",
     "traceback": [
      "\u001b[0;31m---------------------------------------------------------------------------\u001b[0m",
      "\u001b[0;31mValueError\u001b[0m                                Traceback (most recent call last)",
      "\u001b[0;32m<ipython-input-33-44150b7c068c>\u001b[0m in \u001b[0;36m<module>\u001b[0;34m()\u001b[0m\n\u001b[1;32m      3\u001b[0m \u001b[0max\u001b[0m \u001b[0;34m=\u001b[0m \u001b[0mfig\u001b[0m\u001b[0;34m.\u001b[0m\u001b[0madd_axes\u001b[0m\u001b[0;34m(\u001b[0m\u001b[0;34m[\u001b[0m\u001b[0;36m0.19\u001b[0m\u001b[0;34m,\u001b[0m\u001b[0;36m0.17\u001b[0m\u001b[0;34m,\u001b[0m\u001b[0;36m0.58\u001b[0m\u001b[0;34m,\u001b[0m\u001b[0;36m0.75\u001b[0m\u001b[0;34m]\u001b[0m\u001b[0;34m)\u001b[0m\u001b[0;34m\u001b[0m\u001b[0m\n\u001b[1;32m      4\u001b[0m \u001b[0;34m\u001b[0m\u001b[0m\n\u001b[0;32m----> 5\u001b[0;31m \u001b[0mplt\u001b[0m\u001b[0;34m.\u001b[0m\u001b[0mhist\u001b[0m\u001b[0;34m(\u001b[0m\u001b[0mvx_260260\u001b[0m\u001b[0;34m,\u001b[0m\u001b[0mxbins\u001b[0m\u001b[0;34m,\u001b[0m\u001b[0mhisttype\u001b[0m \u001b[0;34m=\u001b[0m \u001b[0;34m'step'\u001b[0m\u001b[0;34m,\u001b[0m \u001b[0malpha\u001b[0m\u001b[0;34m=\u001b[0m\u001b[0;36m0.9\u001b[0m\u001b[0;34m,\u001b[0m\u001b[0mcolor\u001b[0m\u001b[0;34m=\u001b[0m\u001b[0;34m'red'\u001b[0m\u001b[0;34m,\u001b[0m\u001b[0mlabel\u001b[0m \u001b[0;34m=\u001b[0m\u001b[0;34m'Si II'\u001b[0m\u001b[0;34m,\u001b[0m\u001b[0mweights\u001b[0m\u001b[0;34m=\u001b[0m\u001b[0mN_SiII_x\u001b[0m\u001b[0;34m)\u001b[0m\u001b[0;34m\u001b[0m\u001b[0m\n\u001b[0m\u001b[1;32m      6\u001b[0m \u001b[0mplt\u001b[0m\u001b[0;34m.\u001b[0m\u001b[0mlegend\u001b[0m\u001b[0;34m(\u001b[0m\u001b[0mloc\u001b[0m\u001b[0;34m=\u001b[0m\u001b[0;34m'upper right'\u001b[0m\u001b[0;34m)\u001b[0m\u001b[0;34m\u001b[0m\u001b[0m\n\u001b[1;32m      7\u001b[0m \u001b[0max\u001b[0m\u001b[0;34m.\u001b[0m\u001b[0mset_xlabel\u001b[0m\u001b[0;34m(\u001b[0m\u001b[0;34m'velocity $km/s$'\u001b[0m\u001b[0;34m)\u001b[0m\u001b[0;34m\u001b[0m\u001b[0m\n",
      "\u001b[0;32m~/anaconda3/lib/python3.6/site-packages/matplotlib/pyplot.py\u001b[0m in \u001b[0;36mhist\u001b[0;34m(x, bins, range, density, weights, cumulative, bottom, histtype, align, orientation, rwidth, log, color, label, stacked, normed, hold, data, **kwargs)\u001b[0m\n\u001b[1;32m   3130\u001b[0m                       \u001b[0mhisttype\u001b[0m\u001b[0;34m=\u001b[0m\u001b[0mhisttype\u001b[0m\u001b[0;34m,\u001b[0m \u001b[0malign\u001b[0m\u001b[0;34m=\u001b[0m\u001b[0malign\u001b[0m\u001b[0;34m,\u001b[0m \u001b[0morientation\u001b[0m\u001b[0;34m=\u001b[0m\u001b[0morientation\u001b[0m\u001b[0;34m,\u001b[0m\u001b[0;34m\u001b[0m\u001b[0m\n\u001b[1;32m   3131\u001b[0m                       \u001b[0mrwidth\u001b[0m\u001b[0;34m=\u001b[0m\u001b[0mrwidth\u001b[0m\u001b[0;34m,\u001b[0m \u001b[0mlog\u001b[0m\u001b[0;34m=\u001b[0m\u001b[0mlog\u001b[0m\u001b[0;34m,\u001b[0m \u001b[0mcolor\u001b[0m\u001b[0;34m=\u001b[0m\u001b[0mcolor\u001b[0m\u001b[0;34m,\u001b[0m \u001b[0mlabel\u001b[0m\u001b[0;34m=\u001b[0m\u001b[0mlabel\u001b[0m\u001b[0;34m,\u001b[0m\u001b[0;34m\u001b[0m\u001b[0m\n\u001b[0;32m-> 3132\u001b[0;31m                       stacked=stacked, normed=normed, data=data, **kwargs)\n\u001b[0m\u001b[1;32m   3133\u001b[0m     \u001b[0;32mfinally\u001b[0m\u001b[0;34m:\u001b[0m\u001b[0;34m\u001b[0m\u001b[0m\n\u001b[1;32m   3134\u001b[0m         \u001b[0max\u001b[0m\u001b[0;34m.\u001b[0m\u001b[0m_hold\u001b[0m \u001b[0;34m=\u001b[0m \u001b[0mwashold\u001b[0m\u001b[0;34m\u001b[0m\u001b[0m\n",
      "\u001b[0;32m~/anaconda3/lib/python3.6/site-packages/matplotlib/__init__.py\u001b[0m in \u001b[0;36minner\u001b[0;34m(ax, *args, **kwargs)\u001b[0m\n\u001b[1;32m   1853\u001b[0m                         \u001b[0;34m\"the Matplotlib list!)\"\u001b[0m \u001b[0;34m%\u001b[0m \u001b[0;34m(\u001b[0m\u001b[0mlabel_namer\u001b[0m\u001b[0;34m,\u001b[0m \u001b[0mfunc\u001b[0m\u001b[0;34m.\u001b[0m\u001b[0m__name__\u001b[0m\u001b[0;34m)\u001b[0m\u001b[0;34m,\u001b[0m\u001b[0;34m\u001b[0m\u001b[0m\n\u001b[1;32m   1854\u001b[0m                         RuntimeWarning, stacklevel=2)\n\u001b[0;32m-> 1855\u001b[0;31m             \u001b[0;32mreturn\u001b[0m \u001b[0mfunc\u001b[0m\u001b[0;34m(\u001b[0m\u001b[0max\u001b[0m\u001b[0;34m,\u001b[0m \u001b[0;34m*\u001b[0m\u001b[0margs\u001b[0m\u001b[0;34m,\u001b[0m \u001b[0;34m**\u001b[0m\u001b[0mkwargs\u001b[0m\u001b[0;34m)\u001b[0m\u001b[0;34m\u001b[0m\u001b[0m\n\u001b[0m\u001b[1;32m   1856\u001b[0m \u001b[0;34m\u001b[0m\u001b[0m\n\u001b[1;32m   1857\u001b[0m         inner.__doc__ = _add_data_doc(inner.__doc__,\n",
      "\u001b[0;32m~/anaconda3/lib/python3.6/site-packages/matplotlib/axes/_axes.py\u001b[0m in \u001b[0;36mhist\u001b[0;34m(***failed resolving arguments***)\u001b[0m\n\u001b[1;32m   6490\u001b[0m \u001b[0;34m\u001b[0m\u001b[0m\n\u001b[1;32m   6491\u001b[0m         \u001b[0;32mif\u001b[0m \u001b[0mlen\u001b[0m\u001b[0;34m(\u001b[0m\u001b[0mw\u001b[0m\u001b[0;34m)\u001b[0m \u001b[0;34m!=\u001b[0m \u001b[0mnx\u001b[0m\u001b[0;34m:\u001b[0m\u001b[0;34m\u001b[0m\u001b[0m\n\u001b[0;32m-> 6492\u001b[0;31m             \u001b[0;32mraise\u001b[0m \u001b[0mValueError\u001b[0m\u001b[0;34m(\u001b[0m\u001b[0;34m'weights should have the same shape as x'\u001b[0m\u001b[0;34m)\u001b[0m\u001b[0;34m\u001b[0m\u001b[0m\n\u001b[0m\u001b[1;32m   6493\u001b[0m \u001b[0;34m\u001b[0m\u001b[0m\n\u001b[1;32m   6494\u001b[0m         \u001b[0;32mfor\u001b[0m \u001b[0mxi\u001b[0m\u001b[0;34m,\u001b[0m \u001b[0mwi\u001b[0m \u001b[0;32min\u001b[0m \u001b[0mzip\u001b[0m\u001b[0;34m(\u001b[0m\u001b[0mx\u001b[0m\u001b[0;34m,\u001b[0m \u001b[0mw\u001b[0m\u001b[0;34m)\u001b[0m\u001b[0;34m:\u001b[0m\u001b[0;34m\u001b[0m\u001b[0m\n",
      "\u001b[0;31mValueError\u001b[0m: weights should have the same shape as x"
     ]
    }
   ],
   "source": [
    "xbins = np.linspace(0,1200,100)\n",
    "fig = plt.figure(figsize=(8,7))\n",
    "ax = fig.add_axes([0.19,0.17,0.58,0.75])\n",
    "\n",
    "plt.hist(vx_260260,xbins,histtype = 'step', alpha=0.9,color='red',label ='Si II',weights=N_SiII_x)\n",
    "plt.legend(loc='upper right')\n",
    "ax.set_xlabel('velocity $km/s$')\n",
    "ax.set_ylabel('Total mass $M_{\\odot}$')\n",
    "plt.show()"
   ]
  },
  {
   "cell_type": "code",
   "execution_count": null,
   "metadata": {},
   "outputs": [],
   "source": [
    "bins = np.linspace(0,1200,100)\n",
    "fig = plt.figure(figsize=(8,7))\n",
    "ax = fig.add_axes([0.19,0.17,0.58,0.75])\n",
    "plt.hist(vx_260260,xbins,histtype = 'step', alpha=0.5,color='blue',label ='Fe II',weights=N_FeII_x)\n",
    "plt.legend(loc='upper right')\n",
    "ax.set_xlabel('velocity $km/s$')\n",
    "ax.set_ylabel('Total mass $M_{\\odot}$')\n",
    "plt.show()"
   ]
  },
  {
   "cell_type": "code",
   "execution_count": null,
   "metadata": {},
   "outputs": [],
   "source": [
    "xbins = np.linspace(0,1200,100)\n",
    "fig = plt.figure(figsize=(8,7))\n",
    "ax = fig.add_axes([0.19,0.17,0.58,0.75])\n",
    "plt.hist(vx_260260,xbins,histtype = 'step', alpha=0.5,color='green',label ='O VI',weights=N_OVI_x)\n",
    "plt.legend(loc='upper right')\n",
    "ax.set_xlabel('velocity $km/s$')\n",
    "ax.set_ylabel('Total mass $M_{\\odot}$')\n",
    "plt.show()"
   ]
  },
  {
   "cell_type": "code",
   "execution_count": null,
   "metadata": {},
   "outputs": [],
   "source": [
    "values_Si_test=np.zeros((ny,nz,1200))\n",
    "for j in range(0,ny):\n",
    "    for k in range(0,nz):\n",
    "        N_Si_II=n_Si[:,j,k]\n",
    "        vel_Si=vx[:,j,k]\n",
    "        values_Si_test[j,k,:],b=np.histogram(vel_Si,bins=1200,weights=N_Si_II,range=(0,1200))"
   ]
  },
  {
   "cell_type": "code",
   "execution_count": null,
   "metadata": {},
   "outputs": [],
   "source": [
    "values=np.zeros((ny,nz,100))\n",
    "for j in range(0,ny):\n",
    "    for k in range(0,nz):\n",
    "        N_Fe_II=n_Fe[:,j,k]\n",
    "        vel=vx[:,j,k]\n",
    "        values[j,k,:],b=np.histogram(vel,bins=100,weights=N_Fe_II,range=(0,1200))"
   ]
  },
  {
   "cell_type": "code",
   "execution_count": null,
   "metadata": {},
   "outputs": [],
   "source": [
    "values_Si=np.zeros((ny,nz,100))\n",
    "for j in range(0,ny):\n",
    "    for k in range(0,nz):\n",
    "        N_Si_II=n_Si[:,j,k]\n",
    "        vel_Si=vx[:,j,k]\n",
    "        values_Si[j,k,:],b=np.histogram(vel_Si,bins=100,weights=N_Si_II,range=(0,1200))"
   ]
  },
  {
   "cell_type": "code",
   "execution_count": null,
   "metadata": {},
   "outputs": [],
   "source": [
    "np.save('Si_test',values_Si_test)"
   ]
  },
  {
   "cell_type": "code",
   "execution_count": null,
   "metadata": {},
   "outputs": [],
   "source": [
    "values_O=np.zeros((ny,nz,100))\n",
    "for j in range(0,ny):\n",
    "    for k in range(0,nz):\n",
    "        N_O_VI=n_O[:,j,k]\n",
    "        vel_O=vx[:,j,k]\n",
    "        values_O[j,k,:],b=np.histogram(vel_O,bins=100,weights=N_O_VI,range=(0,1200))"
   ]
  },
  {
   "cell_type": "code",
   "execution_count": null,
   "metadata": {},
   "outputs": [],
   "source": [
    "values_C=np.zeros((ny,nz,100))\n",
    "for j in range(0,ny):\n",
    "    for k in range(0,nz):\n",
    "        N_C_II=n_C[:,j,k]\n",
    "        vel_C=vx[:,j,k]\n",
    "        values_C[j,k,:],b=np.histogram(vel_C,bins=100,weights=N_C_II,range=(0,1200))"
   ]
  },
  {
   "cell_type": "code",
   "execution_count": null,
   "metadata": {},
   "outputs": [],
   "source": [
    "np.save('Tau_SiII',values_Si)\n",
    "np.save('Tau_OVI',values_O)\n",
    "np.save('Tau_CII',values_C)"
   ]
  },
  {
   "cell_type": "code",
   "execution_count": null,
   "metadata": {},
   "outputs": [],
   "source": []
  },
  {
   "cell_type": "code",
   "execution_count": null,
   "metadata": {},
   "outputs": [],
   "source": [
    "me=9.10e-28\n",
    "c=3e18\n",
    "dv=100\n",
    "dr=4.94e20 #in cm"
   ]
  },
  {
   "cell_type": "code",
   "execution_count": null,
   "metadata": {},
   "outputs": [],
   "source": []
  },
  {
   "cell_type": "code",
   "execution_count": null,
   "metadata": {},
   "outputs": [],
   "source": [
    "#lst=np.array(TSiII[:,0])/512"
   ]
  },
  {
   "cell_type": "code",
   "execution_count": null,
   "metadata": {},
   "outputs": [],
   "source": [
    "#np.sum(TFeII[260,260,:])*dr"
   ]
  },
  {
   "cell_type": "code",
   "execution_count": null,
   "metadata": {},
   "outputs": [],
   "source": [
    "np.where(n_Si>1e-18)"
   ]
  },
  {
   "cell_type": "code",
   "execution_count": null,
   "metadata": {},
   "outputs": [],
   "source": [
    "np.sum(n_O[:,260,260])*dr"
   ]
  },
  {
   "cell_type": "code",
   "execution_count": null,
   "metadata": {},
   "outputs": [],
   "source": [
    "np.sum(TSiII[300,280,:])*dr"
   ]
  },
  {
   "cell_type": "code",
   "execution_count": null,
   "metadata": {},
   "outputs": [],
   "source": [
    "np.sum(TOVI[260,260,:])*dr"
   ]
  },
  {
   "cell_type": "code",
   "execution_count": null,
   "metadata": {},
   "outputs": [],
   "source": [
    "np.max(vx)"
   ]
  },
  {
   "cell_type": "code",
   "execution_count": null,
   "metadata": {},
   "outputs": [],
   "source": [
    "np.save('N_SiII',n_Si)\n",
    "np.save('N_OVI',n_O)"
   ]
  },
  {
   "cell_type": "code",
   "execution_count": null,
   "metadata": {},
   "outputs": [],
   "source": [
    "np.save('vx',vx)"
   ]
  },
  {
   "cell_type": "code",
   "execution_count": null,
   "metadata": {},
   "outputs": [],
   "source": [
    "np.min(vx)"
   ]
  },
  {
   "cell_type": "code",
   "execution_count": null,
   "metadata": {},
   "outputs": [],
   "source": []
  },
  {
   "cell_type": "code",
   "execution_count": null,
   "metadata": {},
   "outputs": [],
   "source": []
  }
 ],
 "metadata": {
  "kernelspec": {
   "display_name": "Python 3",
   "language": "python",
   "name": "python3"
  },
  "language_info": {
   "codemirror_mode": {
    "name": "ipython",
    "version": 3
   },
   "file_extension": ".py",
   "mimetype": "text/x-python",
   "name": "python",
   "nbconvert_exporter": "python",
   "pygments_lexer": "ipython3",
   "version": "3.6.5"
  }
 },
 "nbformat": 4,
 "nbformat_minor": 2
}
