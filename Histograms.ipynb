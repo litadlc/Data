{
 "cells": [
  {
   "cell_type": "code",
   "execution_count": 1,
   "metadata": {},
   "outputs": [
    {
     "name": "stderr",
     "output_type": "stream",
     "text": [
      "/Users/litadlc/anaconda3/lib/python3.6/site-packages/h5py/__init__.py:36: FutureWarning: Conversion of the second argument of issubdtype from `float` to `np.floating` is deprecated. In future, it will be treated as `np.float64 == np.dtype(float).type`.\n",
      "  from ._conv import register_converters as _register_converters\n"
     ]
    }
   ],
   "source": [
    "import h5py\n",
    "import numpy as np\n",
    "import matplotlib\n",
    "#matplotlib.use('Agg')\n",
    "matplotlib.rcParams['mathtext.default'] = 'regular'\n",
    "import matplotlib.pyplot as plt\n",
    "from matplotlib.colors import LogNorm\n",
    "from PIL import Image\n",
    "import numpy.ma as ma"
   ]
  },
  {
   "cell_type": "code",
   "execution_count": 2,
   "metadata": {},
   "outputs": [],
   "source": [
    "mp = 1.672622e-24 # mass of hydrogren atom, in grams\n",
    "kb = 1.380658e-16 # boltzmann constant in ergs/K\n",
    "\n",
    "d_c = mp # code density unit, 1 mp / cm^3\n",
    "l_c = 3.08567758e18 # code length unit, 1 pc in cm\n",
    "l_km = 3.08567758e13 # code length unit, 1pc in km\n",
    "t_c = 3.15569e10    # code time unit, 1 kyr in seconds\n",
    "v_c = l_c / t_c     # code velocity unit\n",
    "v_km = l_km / t_c     # code velocity unit\n",
    "p_c = d_c * v_c * v_c # code pressure unit\n",
    "m_c = d_c * l_c * l_c * l_c / 1.9891e33 # code mass unit to solar masses"
   ]
  },
  {
   "cell_type": "code",
   "execution_count": 3,
   "metadata": {},
   "outputs": [],
   "source": [
    "istart = 398 # starting file number\n",
    "iend   = 398 # ending file number\n",
    "dx = 5./64. # size scale, pc per cell\n",
    "t_cc = 39.8 # cloud crushing time in kyr, n = 0.5 cloud\n",
    "#t_cc = 56.4 # cloud crushing time in kyr, n = 1 cloud\n",
    "dnamein='/Users/litadlc/Desktop/Data/' # directory where the file is located\n",
    "dnameout='/Users/litadlc/Desktop/10tcc/' # directory where the plot will be saved"
   ]
  },
  {
   "cell_type": "code",
   "execution_count": 4,
   "metadata": {},
   "outputs": [
    {
     "name": "stdout",
     "output_type": "stream",
     "text": [
      "398\n"
     ]
    }
   ],
   "source": [
    "for i in range(istart,iend+1,30):\n",
    "    print(i)\n",
    "f = h5py.File(dnamein+str(i)+'.h5', 'r') # open the hdf5 file for reading\n",
    "head = f.attrs # read the header attributes into structure, head\n",
    "gamma = head['gamma'][0] # ratio of specific heats\n",
    "t  = head['t'][0] # time of this snapshot, in kyr\n",
    "nx = head['dims'][0] # number of cells in the x direction\n",
    "ny = head['dims'][1] # number of cells in the y direction\n",
    "nz = head['dims'][2] # number of cells in the z direction\n",
    "d  = f['density'][:]\n",
    "mx = f['momentum_x'][:]\n",
    "#E = f['Energy'][:]\n",
    "GE = f['GasEnergy'][:] # internal energy in code units, d*e\n",
    "f.close()"
   ]
  },
  {
   "cell_type": "code",
   "execution_count": 6,
   "metadata": {},
   "outputs": [],
   "source": [
    "# numpy histogram functions like 1D arrays\n",
    "#n_hist = np.reshape(log_n, nx_10*ny_10*nz_10)\n",
    "vx = ((mx)/(d))*v_km\n",
    "vx_260260=vx[250,:,:]\n",
    "\n",
    "mass = d*(dx**3)*m_c # mass in solar masses\n",
    "v_hist = np.reshape(vx, nx*ny*nz)\n",
    "m_hist = np.reshape(mass, nx*ny*nz)"
   ]
  },
  {
   "cell_type": "code",
   "execution_count": 7,
   "metadata": {},
   "outputs": [
    {
     "data": {
      "image/png": "[encoded data removed]",
      "text/plain": [
       "<Figure size 288x216 with 1 Axes>"
      ]
     },
     "metadata": {},
     "output_type": "display_data"
    }
   ],
   "source": [
    "xbins = np.linspace(0,1500,50)\n",
    "fig = plt.figure(figsize=(4,3))\n",
    "ax = fig.add_axes([0.19,0.17,0.58,0.75])\n",
    "n, bins, patches = ax.hist(v_hist,xbins,histtype = 'step',alpha=0.9,linewidth=2.0, color = 'purple',weights=m_hist)\n",
    "matplotlib.rc('xtick', labelsize=12) \n",
    "matplotlib.rc('ytick', labelsize=12)\n",
    "ax.set_xlabel('velocity $km/s$',fontsize=12)\n",
    "ax.set_ylabel('Total mass $M_{\\odot}$',fontsize=12)\n",
    "#ax.set_xlim(0,1500)\n",
    "# save the figure\n",
    "#plt.savefig(dnameout+'1D_vel_m_'+str(i)+'.png', dpi=300)\n",
    "#plt.close(fig)\n",
    "plt.show()"
   ]
  },
  {
   "cell_type": "code",
   "execution_count": 9,
   "metadata": {},
   "outputs": [
    {
     "data": {
      "image/png": "[encoded data removed]",
      "text/plain": [
       "<Figure size 288x216 with 1 Axes>"
      ]
     },
     "metadata": {},
     "output_type": "display_data"
    }
   ],
   "source": [
    "xbins = np.linspace(0,1500,50)\n",
    "fig = plt.figure(figsize=(4,3))\n",
    "ax = fig.add_axes([0.19,0.17,0.58,0.75])\n",
    "n_v, bins, patches = ax.hist(v_hist,xbins,histtype = 'step',alpha=0.9,linewidth=2.0, color = 'black')\n",
    "matplotlib.rc('xtick', labelsize=12) \n",
    "matplotlib.rc('ytick', labelsize=12)\n",
    "ax.set_xlabel('velocity $km/s$',fontsize=12)\n",
    "ax.set_ylabel('Volume $cm^{3}$',fontsize=12)\n",
    "\n",
    "# save the figure\n",
    "#plt.savefig(dnameout+'1D_vel_vol_'+str(i)+'.png', dpi=300)\n",
    "#plt.close(fig)\n",
    "plt.show()"
   ]
  },
  {
   "cell_type": "code",
   "execution_count": 24,
   "metadata": {},
   "outputs": [
    {
     "name": "stdout",
     "output_type": "stream",
     "text": [
      "81.1177929685442\n"
     ]
    }
   ],
   "source": [
    "#Using simpsons rule to find the total area of the histogram. Once the area is found I indentified the total number\n",
    "#of cells that are between 1,000 to 1,250 km/s. Once these two values are found I divided the cells between the\n",
    "#1,000 to 1,250 km/s by the total number of cells to determine the percentage of gas that occupies high velocities.\n",
    "\n",
    "def simpsons_Rule(F, dx):\n",
    "    sum_result = F[0] + F[-1] + 4*sum(F[1:-1:2]) + 2*sum(F[2:-1:2])\n",
    "    return sum_result*dx/3\n",
    "dx = 30\n",
    "highvel = simpsons_Rule((n_v), dx)\n",
    "print((np.sum(n_v[33:42])/np.sum(n_v))*100)\n"
   ]
  },
  {
   "cell_type": "code",
   "execution_count": 11,
   "metadata": {},
   "outputs": [],
   "source": [
    "T = (GE*(gamma-1.0)*p_c)/(d*kb)\n",
    "log_T = np.log10(T)\n",
    "\n",
    "log_temp_1DH_10=np.reshape(log_T,nx*ny*nz)"
   ]
  },
  {
   "cell_type": "code",
   "execution_count": 12,
   "metadata": {},
   "outputs": [],
   "source": [
    "T_SiII=np.where(np.logical_and(log_temp_1DH_10>=3.8, log_temp_1DH_10<=4.65))\n",
    "T_OVI=np.where(np.logical_and(log_temp_1DH_10>=5.3, log_temp_1DH_10<=5.65))\n",
    "T_CIV=np.where(np.logical_and(log_temp_1DH_10>=4.85, log_temp_1DH_10<=5.25))"
   ]
  },
  {
   "cell_type": "code",
   "execution_count": 14,
   "metadata": {},
   "outputs": [
    {
     "data": {
      "image/png": "[encoded data removed]",
      "text/plain": [
       "<Figure size 360x288 with 1 Axes>"
      ]
     },
     "metadata": {},
     "output_type": "display_data"
    }
   ],
   "source": [
    "xbins = np.linspace(0,1200,200)\n",
    "fig = plt.figure(figsize=(5,4))\n",
    "ax = fig.add_axes([0.2,0.18,0.75,0.79])\n",
    "v_hist_T_OVI=v_hist[T_OVI]\n",
    "m_hist_T_OVI=m_hist[T_OVI]\n",
    "plt.hist(v_hist_T_OVI,xbins,histtype = 'step', alpha=0.9,linewidth=2.0,color='black',label ='O VI',weights=m_hist_T_OVI)\n",
    "plt.legend(loc='upper right',fontsize=12)\n",
    "matplotlib.rc('xtick', labelsize=15) \n",
    "matplotlib.rc('ytick', labelsize=15)\n",
    "ax.set_xlabel('velocity $km/s$',fontsize=15)\n",
    "ax.set_ylabel('Total mass $M_{\\odot}$',fontsize=15)\n",
    "ax.set_xlim(0,500)\n",
    "plt.show()\n",
    "\n",
    "#plt.savefig(dnameout+'1D_vel_mass_OVI_newtemp_'+str(i)+'.png', dpi=300)\n",
    "#plt.close(fig)"
   ]
  },
  {
   "cell_type": "code",
   "execution_count": 15,
   "metadata": {},
   "outputs": [
    {
     "data": {
      "image/png": "[encoded data removed]",
      "text/plain": [
       "<Figure size 360x288 with 1 Axes>"
      ]
     },
     "metadata": {},
     "output_type": "display_data"
    }
   ],
   "source": [
    "xbins = np.linspace(0,1200,200)\n",
    "fig = plt.figure(figsize=(5,4))\n",
    "ax = fig.add_axes([0.2,0.18,0.75,0.79])\n",
    "v_hist_T_SiII=v_hist[T_SiII]\n",
    "m_hist_T_SiII=m_hist[T_SiII]\n",
    "plt.hist(v_hist_T_SiII,xbins,histtype = 'step', alpha=0.9,linewidth=2.0,color='blue',label ='Si II',weights=m_hist_T_SiII)\n",
    "plt.legend(loc='upper right',fontsize=12)\n",
    "matplotlib.rc('xtick', labelsize=15) \n",
    "matplotlib.rc('ytick', labelsize=15)\n",
    "ax.set_xlabel('velocity $km/s$',fontsize=15)\n",
    "ax.set_ylabel('Total mass $M_{\\odot}$',fontsize=15)\n",
    "ax.set_xlim(0,500)\n",
    "plt.show()\n",
    "\n",
    "#plt.savefig(dnameout+'1D_vel_mass_SiII_newtemp_'+str(i)+'.png', dpi=300)\n",
    "#plt.close(fig)"
   ]
  },
  {
   "cell_type": "code",
   "execution_count": 16,
   "metadata": {},
   "outputs": [
    {
     "data": {
      "image/png": "[encoded data removed]",
      "text/plain": [
       "<Figure size 360x288 with 1 Axes>"
      ]
     },
     "metadata": {},
     "output_type": "display_data"
    }
   ],
   "source": [
    "xbins = np.linspace(0,1200,200)\n",
    "fig = plt.figure(figsize=(5,4))\n",
    "ax = fig.add_axes([0.2,0.18,0.75,0.79])\n",
    "v_hist_T_CIV=v_hist[T_CIV]\n",
    "m_hist_T_CIV=m_hist[T_CIV]\n",
    "plt.hist(v_hist_T_CIV,xbins,histtype = 'step', alpha=0.9,linewidth=2.0,color='purple',label ='C IV',weights=m_hist_T_CIV)\n",
    "plt.legend(loc='upper right',fontsize=12)\n",
    "matplotlib.rc('xtick', labelsize=15) \n",
    "matplotlib.rc('ytick', labelsize=15)\n",
    "ax.set_xlabel('velocity $km/s$',fontsize=15)\n",
    "ax.set_ylabel('Total mass $M_{\\odot}$',fontsize=15)\n",
    "ax.set_xlim(0,500)\n",
    "plt.show()\n",
    "\n",
    "#plt.savefig(dnameout+'1D_vel_mass_CIV_newtemp_'+str(i)+'.png', dpi=300)\n",
    "#plt.close(fig)"
   ]
  },
  {
   "cell_type": "code",
   "execution_count": null,
   "metadata": {},
   "outputs": [],
   "source": []
  }
 ],
 "metadata": {
  "kernelspec": {
   "display_name": "Python 3",
   "language": "python",
   "name": "python3"
  },
  "language_info": {
   "codemirror_mode": {
    "name": "ipython",
    "version": 3
   },
   "file_extension": ".py",
   "mimetype": "text/x-python",
   "name": "python",
   "nbconvert_exporter": "python",
   "pygments_lexer": "ipython3",
   "version": "3.6.5"
  }
 },
 "nbformat": 4,
 "nbformat_minor": 2
}
