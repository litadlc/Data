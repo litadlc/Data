{
 "cells": [
  {
   "cell_type": "code",
   "execution_count": 1,
   "metadata": {},
   "outputs": [
    {
     "name": "stderr",
     "output_type": "stream",
     "text": [
      "/Users/litadlc/anaconda3/lib/python3.6/site-packages/h5py/__init__.py:36: FutureWarning: Conversion of the second argument of issubdtype from `float` to `np.floating` is deprecated. In future, it will be treated as `np.float64 == np.dtype(float).type`.\n",
      "  from ._conv import register_converters as _register_converters\n"
     ]
    }
   ],
   "source": [
    "import h5py\n",
    "import numpy as np\n",
    "import matplotlib\n",
    "import sys\n",
    "matplotlib.use('Agg')\n",
    "matplotlib.rcParams['mathtext.default'] = 'regular'\n",
    "import matplotlib.pyplot as plt\n",
    "from matplotlib.colors import LogNorm\n",
    "from PIL import Image\n",
    "from numpy import inf\n",
    "import numpy.ma as ma\n",
    "from numpy import *"
   ]
  },
  {
   "cell_type": "code",
   "execution_count": 2,
   "metadata": {},
   "outputs": [
    {
     "name": "stdout",
     "output_type": "stream",
     "text": [
      "398\n"
     ]
    }
   ],
   "source": [
    "#Loading save number density files (n(v) at different j,k values)\n",
    "n_v_SiII=np.load('n_v_SiII.npy')\n",
    "n_v_SiIV=np.load('n_v_SiIV.npy')\n",
    "n_v_OI=np.load('n_v_OI.npy')\n",
    "n_v_OVI=np.load('n_v_OVI.npy')\n",
    "n_v_CII=np.load('n_v_CII.npy')\n",
    "n_v_CIV=np.load('n_v_CIV.npy')\n",
    "n_v_SII=np.load('n_v_SII.npy')\n",
    "n_v_NV=np.load('n_v_NV.npy')\n",
    "\n",
    "\n",
    "istart = 398 # starting file number\n",
    "iend   = 398 # ending file number\n",
    "\n",
    "dnameout='/Users/litadlc/Desktop/10tcc/'\n",
    "\n",
    "for i in range(istart,iend+1,30):\n",
    "    print(i)"
   ]
  },
  {
   "cell_type": "code",
   "execution_count": 3,
   "metadata": {},
   "outputs": [],
   "source": [
    "#Constant that are needed to calculate Tau(v)\n",
    "me=9.10e-28 #mass of electron in grams\n",
    "c=3e18 #speed of light in Angstroms per sec\n",
    "dv=1.2e6  #in cm length of velocity \n",
    "dr=4.94e20 #length of box in cm length along the x-axis\n",
    "e = 4.80e-10 #in esu=((cm^3/2)*(grams^1/2))/s\n",
    "#oscillator strength \n",
    "f_s_SiII=1.18\n",
    "f_w_SiII=0.582\n",
    "f_s_SiIV=0.524\n",
    "f_w_SiIV=0.26\n",
    "f_s_OVI=0.1325\n",
    "f_w_OVI=0.0658\n",
    "f_s_CII=0.336\n",
    "f_w_CII=0.168\n",
    "f_s_CIV=0.190\n",
    "f_w_CIV=0.0952\n",
    "f_s_NV=0.156\n",
    "f_w_NV=0.0777\n",
    "\n",
    "#rest wave-length\n",
    "rw_s_SiII=1260 # in Angstroms\n",
    "rw_w_SiII=1193\n",
    "rw_s_SiIV=1394 # in Angstroms\n",
    "rw_w_SiIV=1403\n",
    "rw_s_OVI=1032 #in Angstroms\n",
    "rw_w_OVI=1038\n",
    "rw_CII=904 #in Angstroms(similar value for both strong + week line)\n",
    "rw_s_CIV=1548 #in Angstroms\n",
    "rw_w_CIV=1551 #in Angstroms\n",
    "rw_s_NV=1239 #in Angstroms\n",
    "rw_w_NV=1243 #in Angstroms"
   ]
  },
  {
   "cell_type": "code",
   "execution_count": 4,
   "metadata": {},
   "outputs": [],
   "source": [
    "dx = 2.411e17# size scale, in cm, 5/64 pc\n",
    "T_jkw_SiII= ((((np.pi)*(e**2))/(me*c))*f_w_SiII*n_v_SiII*rw_w_SiII*(dx/dv))\n",
    "T_jkw_SiIV= ((((np.pi)*(e**2))/(me*c))*f_w_SiIV*n_v_SiIV*rw_w_SiIV*(dx/dv))\n",
    "T_jkw_OVI = ((((np.pi)*(e**2))/(me*c))*f_w_OVI*n_v_OVI*rw_w_OVI*(dx/dv))\n",
    "T_jkw_CII= ((((np.pi)*(e**2))/(me*c))*f_w_CII*n_v_CII*rw_CII*(dx/dv))\n",
    "T_jkw_CIV= ((((np.pi)*(e**2))/(me*c))*f_w_CIV*n_v_CIV*rw_w_CIV*(dx/dv))\n",
    "T_jkw_NV= ((((np.pi)*(e**2))/(me*c))*f_w_NV*n_v_NV*rw_w_NV*(dx/dv))"
   ]
  },
  {
   "cell_type": "code",
   "execution_count": 5,
   "metadata": {},
   "outputs": [],
   "source": [
    "np.save('T_jkw_SiII',T_jkw_SiII)\n",
    "np.save('T_jkw_SiIV',T_jkw_SiIV)\n",
    "np.save('T_jkw_OVI',T_jkw_OVI)\n",
    "np.save('T_jkw_CII',T_jkw_CII)\n",
    "np.save('T_jkw_CIV',T_jkw_CIV)\n",
    "np.save('T_jkw_NV',T_jkw_NV)"
   ]
  },
  {
   "cell_type": "code",
   "execution_count": 6,
   "metadata": {},
   "outputs": [],
   "source": [
    "T_jks_SiII= ((((np.pi)*(e**2))/(me*c))*f_s_SiII*n_v_SiII*rw_s_SiII*(dx/dv))\n",
    "T_jks_SiIV= ((((np.pi)*(e**2))/(me*c))*f_s_SiIV*n_v_SiIV*rw_s_SiIV*(dx/dv))\n",
    "T_jks_OVI= ((((np.pi)*(e**2))/(me*c))*f_s_OVI*n_v_OVI*rw_s_OVI*(dx/dv))\n",
    "T_jks_CII= ((((np.pi)*(e**2))/(me*c))*f_s_CII*n_v_CII*rw_CII*(dx/dv))\n",
    "T_jks_CIV= ((((np.pi)*(e**2))/(me*c))*f_s_CIV*n_v_CIV*rw_s_CIV*(dx/dv))\n",
    "T_jks_NV= ((((np.pi)*(e**2))/(me*c))*f_s_NV*n_v_NV*rw_s_NV*(dx/dv))\n",
    "\n",
    "\n",
    "f_s_absorbed_SiII_dx=np.exp(-T_jks_SiII)\n",
    "f_w_absorbed_SiII_dx=np.exp(-T_jkw_SiII)\n",
    "f_s_absorbed_SiIV_dx=np.exp(-T_jks_SiIV)\n",
    "f_w_absorbed_SiIV_dx=np.exp(-T_jkw_SiIV)\n",
    "f_s_absorbed_OVI_dx=np.exp(-T_jks_OVI)\n",
    "f_w_absorbed_OVI_dx=np.exp(-T_jkw_OVI)\n",
    "f_s_absorbed_CII_dx=np.exp(-T_jks_CII)\n",
    "f_w_absorbed_CII_dx=np.exp(-T_jkw_CII)\n",
    "f_s_absorbed_CIV_dx=np.exp(-T_jks_CIV)\n",
    "f_w_absorbed_CIV_dx=np.exp(-T_jkw_CIV)\n",
    "f_s_absorbed_NV_dx=np.exp(-T_jks_NV)\n",
    "f_w_absorbed_NV_dx=np.exp(-T_jkw_NV)\n",
    "\n",
    "avgf_s_absorbed_SiII_dx=f_s_absorbed_SiII_dx.mean(axis=(0,1))\n",
    "avgf_w_absorbed_SiII_dx=f_w_absorbed_SiII_dx.mean(axis=(0,1))\n",
    "avgf_s_absorbed_SiIV_dx=f_s_absorbed_SiIV_dx.mean(axis=(0,1))\n",
    "avgf_w_absorbed_SiIV_dx=f_w_absorbed_SiIV_dx.mean(axis=(0,1))\n",
    "avgf_s_absorbed_OVI_dx=f_s_absorbed_OVI_dx.mean(axis=(0,1))\n",
    "avgf_w_absorbed_OVI_dx=f_w_absorbed_OVI_dx.mean(axis=(0,1))\n",
    "avgf_s_absorbed_CII_dx=f_s_absorbed_CII_dx.mean(axis=(0,1))\n",
    "avgf_w_absorbed_CII_dx=f_w_absorbed_CII_dx.mean(axis=(0,1))\n",
    "avgf_s_absorbed_CIV_dx=f_s_absorbed_CIV_dx.mean(axis=(0,1))\n",
    "avgf_w_absorbed_CIV_dx=f_w_absorbed_CIV_dx.mean(axis=(0,1))\n",
    "avgf_s_absorbed_NV_dx=f_s_absorbed_NV_dx.mean(axis=(0,1))\n",
    "avgf_w_absorbed_NV_dx=f_w_absorbed_NV_dx.mean(axis=(0,1))"
   ]
  },
  {
   "cell_type": "code",
   "execution_count": 7,
   "metadata": {},
   "outputs": [],
   "source": [
    "fig = plt.figure(figsize=(6,3.5))\n",
    "velocity=np.linspace(0,1200,100)\n",
    "ax = fig.add_axes([0.19,0.17,0.75,0.8])\n",
    "plt.plot(velocity, avgf_s_absorbed_SiII_dx,drawstyle='steps', alpha=0.95,linewidth=3.0, color='blue',label ='Si II T~$10^{3.8}-10^{4.7} K$')\n",
    "plt.plot(velocity, avgf_s_absorbed_CIV_dx,drawstyle='steps', alpha=0.95,linewidth=3.0, color='purple',label ='C IV T~$10^{4.9}-10^{5.3} K$')\n",
    "plt.plot(velocity, avgf_s_absorbed_OVI_dx,drawstyle='steps', alpha=0.95,linewidth=3.0, color='black',label ='O VI T~$10^{5.3}-10^{5.7} K$')\n",
    "plt.legend(loc='center right',fontsize=12)\n",
    "ax.set_xlim(0,650,50)\n",
    "ax.set_ylabel(r'$F(v)$',fontsize=20)\n",
    "ax.set_xlabel(r'velocity $(km/s)$',fontsize=15)\n",
    "plt.savefig(dnameout+'3ions_Flux_poster'+str(i)+'.png', dpi=300)\n",
    "plt.close(fig)\n",
    "plt.show()"
   ]
  },
  {
   "cell_type": "code",
   "execution_count": 8,
   "metadata": {},
   "outputs": [],
   "source": [
    "fig = plt.figure(figsize=(10,9))\n",
    "velocity=np.linspace(0,1200,100)\n",
    "f, ((ax1, ax2), (ax3, ax4),(ax5,ax6)) = plt.subplots(3, 2, sharex='col', sharey='row',figsize=(10,9))\n",
    "ax1.plot(velocity, avgf_w_absorbed_SiII_dx,drawstyle='steps', alpha=0.50,linewidth=7.0, color='blue',label ='Si II weak')\n",
    "ax1.plot(velocity, avgf_s_absorbed_SiII_dx,'--',drawstyle='steps', alpha=0.95,linewidth=3.0, color='blue',label ='Si II strong')\n",
    "ax2.plot(velocity, avgf_w_absorbed_CII_dx, drawstyle='steps', alpha=0.50,linewidth=7.0, color='red',label ='C II weak')\n",
    "ax2.plot(velocity, avgf_s_absorbed_CII_dx,'--', drawstyle='steps', alpha=0.95,linewidth=3.0, color='red',label ='C II strong')\n",
    "ax3.plot(velocity, avgf_w_absorbed_SiIV_dx,drawstyle='steps', alpha=0.50,linewidth=7.0, color='green',label ='Si IV weak')\n",
    "ax3.plot(velocity, avgf_s_absorbed_SiIV_dx,'--',drawstyle='steps', alpha=0.95,linewidth=3.0, color='green',label ='Si IV strong')\n",
    "ax4.plot(velocity, avgf_w_absorbed_CIV_dx, drawstyle='steps', alpha=0.50,linewidth=7.0, color='purple',label ='C IV weak')\n",
    "ax4.plot(velocity, avgf_s_absorbed_CIV_dx,'--', drawstyle='steps', alpha=0.95,linewidth=3.0, color='purple',label ='C IV strong')\n",
    "ax5.plot(velocity, avgf_w_absorbed_NV_dx, drawstyle='steps', alpha=0.50,linewidth=7.0, color='pink',label ='N V weak')\n",
    "ax5.plot(velocity, avgf_s_absorbed_NV_dx, '--',drawstyle='steps', alpha=0.95,linewidth=3.0, color='pink',label ='N V strong')\n",
    "ax6.plot(velocity, avgf_w_absorbed_OVI_dx, drawstyle='steps', alpha=0.50,linewidth=7.0, color='black',label ='O VI weak')\n",
    "ax6.plot(velocity, avgf_s_absorbed_OVI_dx,'--', drawstyle='steps', alpha=0.95,linewidth=3.0, color='black',label ='O VI strong')\n",
    "\n",
    "ax1.set_ylim(0.991,1,0.001)\n",
    "ax2.set_ylim(0.991,1,0.001)\n",
    "ax3.set_ylim(0.991,1,0.001)\n",
    "ax4.set_ylim(0.991,1,0.001)\n",
    "ax5.set_ylim(0.991,1,0.001)\n",
    "ax6.set_ylim(0.991,1,0.001)\n",
    "\n",
    "ax1.legend(loc='lower right',fontsize=15)\n",
    "ax2.legend(loc='lower right',fontsize=15)\n",
    "ax3.legend(loc='lower right',fontsize=15)\n",
    "ax4.legend(loc='lower right',fontsize=15)\n",
    "ax5.legend(loc='lower right',fontsize=15)\n",
    "ax6.legend(loc='lower right',fontsize=15)\n",
    "ax5.set_xlabel('velocity $km/s$',fontsize=15)\n",
    "ax6.set_xlabel('velocity $km/s$',fontsize=15)\n",
    "ax3.set_ylabel(r'$F(v)$',fontsize=15)\n",
    "matplotlib.rc('xtick', labelsize=15) \n",
    "matplotlib.rc('ytick', labelsize=15) \n",
    "ax5.set_xlim(0,500,300)\n",
    "ax6.set_xlim(0,500,300)\n",
    "plt.savefig(dnameout+'NormalizedFlux_'+str(i)+'.png', dpi=300)\n",
    "plt.close(fig)\n",
    "plt.show()"
   ]
  },
  {
   "cell_type": "code",
   "execution_count": 9,
   "metadata": {},
   "outputs": [
    {
     "name": "stdout",
     "output_type": "stream",
     "text": [
      "133.33333333333334 0.9965786153006112\n"
     ]
    }
   ],
   "source": [
    "a=velocity.tolist()\n",
    "b=avgf_w_absorbed_SiIV_dx.tolist()\n",
    "c=list(zip(a, b))\n",
    "d=np.array(c)\n",
    "min_y = min(b)  # Find the maximum y value\n",
    "max_x = a[b.index(min_y)]  # Find the x value corresponding to the maximum y value\n",
    "print (max_x, min_y)"
   ]
  },
  {
   "cell_type": "code",
   "execution_count": 10,
   "metadata": {},
   "outputs": [],
   "source": [
    "#from scipy.integrate import trapz, simps\n",
    "\n",
    "#x, dx = np.linspace(0, 1200, 100, retstep=True)\n",
    "#mean, sigma = 90, 20\n",
    "#f = np.exp(-((x-mean)/sigma)**2/2) / sigma / np.sqrt(2 * np.pi)\n",
    "#print('{:18.16f}'.format(np.sum(f)*dx))"
   ]
  },
  {
   "cell_type": "code",
   "execution_count": 59,
   "metadata": {},
   "outputs": [
    {
     "data": {
      "text/plain": [
       "0.748305607496162"
      ]
     },
     "execution_count": 59,
     "metadata": {},
     "output_type": "execute_result"
    }
   ],
   "source": [
    "from scipy import integrate\n",
    "\n",
    "A=integrate.simps((1-avgf_w_absorbed_SiII_dx),velocity)\n",
    "A"
   ]
  },
  {
   "cell_type": "code",
   "execution_count": 12,
   "metadata": {},
   "outputs": [],
   "source": [
    "?integrate.simps"
   ]
  },
  {
   "cell_type": "code",
   "execution_count": 13,
   "metadata": {},
   "outputs": [
    {
     "name": "stdout",
     "output_type": "stream",
     "text": [
      "6.177015400712167\n"
     ]
    }
   ],
   "source": [
    "def simpsons_Rule(y, h):\n",
    "    sum_result = y[0] + y[-1] + 4*sum(y[1:-1:2]) + 2*sum(y[2:-1:2])\n",
    "    return sum_result*h/3\n",
    "\n",
    "h = 100\n",
    "mass = simpsons_Rule((1-avgf_w_absorbed_SiII_dx), h)\n",
    "print(mass)"
   ]
  },
  {
   "cell_type": "code",
   "execution_count": 60,
   "metadata": {},
   "outputs": [],
   "source": [
    "def simps(f,a,b,N=100):\n",
    "\n",
    "    if N % 2 == 1:\n",
    "        raise ValueError(\"N must be an even integer.\")\n",
    "    ds = (b-a)/N\n",
    "    x = np.linspace(a,b,N+1)\n",
    "    y = f(x)\n",
    "    S = N/3 *  y[0] + y[-1] + 4*sum(y[1:-1:2]) + 2*sum(y[2:-1:2])\n",
    "    return S"
   ]
  },
  {
   "cell_type": "code",
   "execution_count": 61,
   "metadata": {},
   "outputs": [
    {
     "data": {
      "text/plain": [
       "0.18531046202136503"
      ]
     },
     "execution_count": 61,
     "metadata": {},
     "output_type": "execute_result"
    }
   ],
   "source": [
    "simps(lambda x: (1-avgf_w_absorbed_SiII_dx),0,1200,100)"
   ]
  },
  {
   "cell_type": "code",
   "execution_count": 16,
   "metadata": {},
   "outputs": [],
   "source": [
    "#import pdb\n",
    "#pdb.pm()"
   ]
  },
  {
   "cell_type": "code",
   "execution_count": 17,
   "metadata": {},
   "outputs": [
    {
     "name": "stderr",
     "output_type": "stream",
     "text": [
      "/Users/litadlc/anaconda3/lib/python3.6/site-packages/ipykernel_launcher.py:1: RuntimeWarning: divide by zero encountered in true_divide\n",
      "  \"\"\"Entry point for launching an IPython kernel.\n",
      "/Users/litadlc/anaconda3/lib/python3.6/site-packages/ipykernel_launcher.py:1: RuntimeWarning: invalid value encountered in true_divide\n",
      "  \"\"\"Entry point for launching an IPython kernel.\n",
      "/Users/litadlc/anaconda3/lib/python3.6/site-packages/ipykernel_launcher.py:2: RuntimeWarning: invalid value encountered in true_divide\n",
      "  \n",
      "/Users/litadlc/anaconda3/lib/python3.6/site-packages/ipykernel_launcher.py:3: RuntimeWarning: invalid value encountered in true_divide\n",
      "  This is separate from the ipykernel package so we can avoid doing imports until\n",
      "/Users/litadlc/anaconda3/lib/python3.6/site-packages/ipykernel_launcher.py:4: RuntimeWarning: divide by zero encountered in true_divide\n",
      "  after removing the cwd from sys.path.\n",
      "/Users/litadlc/anaconda3/lib/python3.6/site-packages/ipykernel_launcher.py:4: RuntimeWarning: invalid value encountered in true_divide\n",
      "  after removing the cwd from sys.path.\n",
      "/Users/litadlc/anaconda3/lib/python3.6/site-packages/ipykernel_launcher.py:5: RuntimeWarning: divide by zero encountered in true_divide\n",
      "  \"\"\"\n",
      "/Users/litadlc/anaconda3/lib/python3.6/site-packages/ipykernel_launcher.py:5: RuntimeWarning: invalid value encountered in true_divide\n",
      "  \"\"\"\n",
      "/Users/litadlc/anaconda3/lib/python3.6/site-packages/ipykernel_launcher.py:6: RuntimeWarning: invalid value encountered in true_divide\n",
      "  \n"
     ]
    }
   ],
   "source": [
    "c_SiII_dx=((avgf_w_absorbed_SiII_dx-1.)**2.)/(avgf_s_absorbed_SiII_dx-1.-(2.*(avgf_w_absorbed_SiII_dx-1.)))\n",
    "c_SiIV_dx=((avgf_w_absorbed_SiIV_dx-1.)**2.)/(avgf_s_absorbed_SiIV_dx-1.-(2.*(avgf_w_absorbed_SiIV_dx-1.)))\n",
    "c_OVI_dx=((avgf_w_absorbed_OVI_dx-1.)**2.)/(avgf_s_absorbed_OVI_dx-1.-(2.*(avgf_w_absorbed_OVI_dx-1.)))\n",
    "c_CII_dx=((avgf_w_absorbed_CII_dx-1.)**2.)/(avgf_s_absorbed_CII_dx-1.-(2.*(avgf_w_absorbed_CII_dx-1.)))\n",
    "c_CIV_dx=((avgf_w_absorbed_CIV_dx-1.)**2.)/(avgf_s_absorbed_CIV_dx-1.-(2.*(avgf_w_absorbed_CIV_dx-1.)))\n",
    "c_NV_dx=((avgf_w_absorbed_NV_dx-1.)**2.)/(avgf_s_absorbed_NV_dx-1.-(2.*(avgf_w_absorbed_NV_dx-1.)))"
   ]
  },
  {
   "cell_type": "code",
   "execution_count": 18,
   "metadata": {},
   "outputs": [],
   "source": [
    "where_are_NaNs1 = isnan(c_SiIV_dx)\n",
    "where_are_NaNs2 = isnan(c_SiII_dx)\n",
    "where_are_NaNs3 = isnan(c_OVI_dx)\n",
    "where_are_NaNs4 = isnan(c_CII_dx)\n",
    "where_are_NaNs5 = isnan(c_CIV_dx)\n",
    "where_are_NaNs6 = isnan(c_NV_dx)\n",
    "c_SiIV_dx[where_are_NaNs1] = 0\n",
    "c_SiII_dx[where_are_NaNs2] = 0\n",
    "c_OVI_dx[where_are_NaNs3] = 0\n",
    "c_CII_dx[where_are_NaNs4] = 0\n",
    "c_CIV_dx[where_are_NaNs5] = 0\n",
    "c_NV_dx[where_are_NaNs6] = 0"
   ]
  },
  {
   "cell_type": "code",
   "execution_count": 19,
   "metadata": {},
   "outputs": [],
   "source": [
    "#fig = plt.figure(figsize=(12,11))\n",
    "#velocity=np.linspace(0,1200,100)\n",
    "#f, ((ax1, ax2), (ax3, ax4),(ax5,ax6)) = plt.subplots(3, 2, sharex='col', sharey='row',figsize=(15,15))\n",
    "#f.suptitle('Covering Fraction Plots',fontsize=25)\n",
    "#ax1.plot(velocity, c_SiII_dx,drawstyle='steps', alpha=0.90,linewidth=3.0, color='blue',label ='Si II')\n",
    "#ax1.plot(velocity, c_OVI_dx,drawstyle='steps', alpha=0.90,linewidth=3.0, color='black',label ='O VI')\n",
    "#ax2.plot(velocity, c_SiIV_dx,drawstyle='steps', alpha=0.90,linewidth=3.0, color='green',label ='Si IV')\n",
    "#ax2.plot(velocity, c_OVI_dx,drawstyle='steps', alpha=0.90,linewidth=3.0, color='black',label ='O VI')\n",
    "#ax3.plot(velocity, c_CII_dx,drawstyle='steps', alpha=0.90,linewidth=3.0, color='red',label ='C II')\n",
    "#ax3.plot(velocity, c_OVI_dx,drawstyle='steps', alpha=0.90,linewidth=3.0, color='black',label ='O VI')\n",
    "#ax4.plot(velocity, c_CIV_dx,drawstyle='steps', alpha=0.90,linewidth=3.0, color='purple',label ='C IV')\n",
    "#ax4.plot(velocity, c_OVI_dx,drawstyle='steps', alpha=0.90,linewidth=3.0, color='black',label ='O VI')\n",
    "#ax5.plot(velocity, c_NV_dx,drawstyle='steps', alpha=0.90,linewidth=3.0, color='pink',label ='N V')\n",
    "#ax5.plot(velocity, c_OVI_dx,drawstyle='steps', alpha=0.90,linewidth=3.0, color='black',label ='O VI')\n",
    "#ax1.legend(loc='upper right',fontsize=20)\n",
    "#ax2.legend(loc='upper right',fontsize=20)\n",
    "#ax3.legend(loc='upper right',fontsize=20)\n",
    "#ax4.legend(loc='upper right',fontsize=20)\n",
    "#ax5.legend(loc='upper right',fontsize=20)\n",
    "#ax5.set_xlabel('velocity $km/s$',fontsize=15)\n",
    "#ax6.set_xlabel('velocity $km/s$',fontsize=15)\n",
    "#ax3.set_ylabel(r'c$_{f}$',fontsize=25)\n",
    "#matplotlib.rc('xtick', labelsize=15) \n",
    "#matplotlib.rc('ytick', labelsize=15) \n",
    "#plt.savefig(dnameout+'CoveringFractionAll_'+str(i)+'.png', dpi=300)\n",
    "#plt.close(fig)\n",
    "#plt.show()"
   ]
  },
  {
   "cell_type": "code",
   "execution_count": 20,
   "metadata": {},
   "outputs": [],
   "source": [
    "fig = plt.figure(figsize=(10,9))\n",
    "velocity=np.linspace(0,1200,100)\n",
    "fig = plt.figure(figsize=(8,5))\n",
    "ax = fig.add_axes([0.19,0.17,0.58,0.75])\n",
    "ax.plot(velocity, c_SiII_dx,drawstyle='steps', alpha=0.95,linewidth=3.0, color='blue',label ='Si II')\n",
    "ax.plot(velocity, c_CIV_dx,drawstyle='steps', alpha=0.95,linewidth=3.0, color='purple',label ='C IV')\n",
    "ax.plot(velocity, c_OVI_dx, drawstyle='steps', alpha=0.95,linewidth=3.0, color='black',label ='O VI')\n",
    "plt.legend(loc='upper right',fontsize=12)\n",
    "ax.set_xlim(0,650,50)\n",
    "ax.set_ylabel(r'$c_f$',fontsize=20)\n",
    "ax.set_xlabel(r'velocity $(km/s)$',fontsize=15)\n",
    "plt.savefig(dnameout+'3ions_CF_poster'+str(i)+'.png', dpi=300)\n",
    "plt.close(fig)\n",
    "plt.show()"
   ]
  },
  {
   "cell_type": "code",
   "execution_count": 21,
   "metadata": {},
   "outputs": [
    {
     "name": "stderr",
     "output_type": "stream",
     "text": [
      "/Users/litadlc/anaconda3/lib/python3.6/site-packages/ipykernel_launcher.py:1: RuntimeWarning: divide by zero encountered in log\n",
      "  \"\"\"Entry point for launching an IPython kernel.\n",
      "/Users/litadlc/anaconda3/lib/python3.6/site-packages/ipykernel_launcher.py:1: RuntimeWarning: invalid value encountered in subtract\n",
      "  \"\"\"Entry point for launching an IPython kernel.\n",
      "/Users/litadlc/anaconda3/lib/python3.6/site-packages/ipykernel_launcher.py:2: RuntimeWarning: divide by zero encountered in log\n",
      "  \n",
      "/Users/litadlc/anaconda3/lib/python3.6/site-packages/ipykernel_launcher.py:2: RuntimeWarning: invalid value encountered in subtract\n",
      "  \n",
      "/Users/litadlc/anaconda3/lib/python3.6/site-packages/ipykernel_launcher.py:3: RuntimeWarning: divide by zero encountered in log\n",
      "  This is separate from the ipykernel package so we can avoid doing imports until\n",
      "/Users/litadlc/anaconda3/lib/python3.6/site-packages/ipykernel_launcher.py:3: RuntimeWarning: invalid value encountered in subtract\n",
      "  This is separate from the ipykernel package so we can avoid doing imports until\n",
      "/Users/litadlc/anaconda3/lib/python3.6/site-packages/ipykernel_launcher.py:4: RuntimeWarning: divide by zero encountered in log\n",
      "  after removing the cwd from sys.path.\n",
      "/Users/litadlc/anaconda3/lib/python3.6/site-packages/ipykernel_launcher.py:4: RuntimeWarning: invalid value encountered in subtract\n",
      "  after removing the cwd from sys.path.\n",
      "/Users/litadlc/anaconda3/lib/python3.6/site-packages/ipykernel_launcher.py:5: RuntimeWarning: divide by zero encountered in log\n",
      "  \"\"\"\n",
      "/Users/litadlc/anaconda3/lib/python3.6/site-packages/ipykernel_launcher.py:5: RuntimeWarning: invalid value encountered in subtract\n",
      "  \"\"\"\n",
      "/Users/litadlc/anaconda3/lib/python3.6/site-packages/ipykernel_launcher.py:6: RuntimeWarning: divide by zero encountered in log\n",
      "  \n",
      "/Users/litadlc/anaconda3/lib/python3.6/site-packages/ipykernel_launcher.py:6: RuntimeWarning: invalid value encountered in subtract\n",
      "  \n"
     ]
    }
   ],
   "source": [
    "Tau_0_OVI_dx=np.log(1-avgf_w_absorbed_OVI_dx)-np.log(avgf_w_absorbed_OVI_dx-avgf_s_absorbed_OVI_dx)\n",
    "Tau_0_SiII_dx=np.log(1-avgf_w_absorbed_SiII_dx)-np.log(avgf_w_absorbed_SiII_dx-avgf_s_absorbed_SiII_dx)\n",
    "Tau_0_SiIV_dx=np.log(1-avgf_w_absorbed_SiIV_dx)-np.log(avgf_w_absorbed_SiIV_dx-avgf_s_absorbed_SiIV_dx)\n",
    "Tau_0_CII_dx=np.log(1-avgf_w_absorbed_CII_dx)-np.log(avgf_w_absorbed_CII_dx-avgf_s_absorbed_CII_dx)\n",
    "Tau_0_CIV_dx=np.log(1-avgf_w_absorbed_CIV_dx)-np.log(avgf_w_absorbed_CIV_dx-avgf_s_absorbed_CIV_dx)\n",
    "Tau_0_NV_dx=np.log(1-avgf_w_absorbed_NV_dx)-np.log(avgf_w_absorbed_NV_dx-avgf_s_absorbed_NV_dx)"
   ]
  },
  {
   "cell_type": "code",
   "execution_count": 22,
   "metadata": {},
   "outputs": [],
   "source": [
    "where_are_NaNs = isnan(Tau_0_OVI_dx)\n",
    "where_are_NaNs1 = isnan(Tau_0_SiII_dx)\n",
    "where_are_NaNs2 = isnan(Tau_0_SiIV_dx)\n",
    "where_are_NaNs3 = isnan(Tau_0_CII_dx)\n",
    "where_are_NaNs4 = isnan(Tau_0_CIV_dx)\n",
    "where_are_NaNs5 = isnan(Tau_0_NV_dx)\n",
    "Tau_0_OVI_dx[where_are_NaNs] = 0\n",
    "Tau_0_SiII_dx[where_are_NaNs1] = 0\n",
    "Tau_0_SiIV_dx[where_are_NaNs2] = 0\n",
    "Tau_0_CII_dx[where_are_NaNs3] = 0\n",
    "Tau_0_CIV_dx[where_are_NaNs4] = 0\n",
    "Tau_0_NV_dx[where_are_NaNs5] = 0\n",
    "Tau_0_OVI_dx[Tau_0_OVI_dx == inf] = 0\n",
    "Tau_0_OVI_dx[Tau_0_OVI_dx < 0] = 0\n",
    "Tau_0_SiIV_dx[Tau_0_SiIV_dx == inf] = 0\n",
    "Tau_0_NV_dx[Tau_0_NV_dx == inf] = 0\n",
    "Tau_0_SiIV_dx[Tau_0_SiIV_dx < 0] = 0\n",
    "Tau_0_CII_dx[Tau_0_CII_dx < 0] = 0\n",
    "Tau_0_CIV_dx[Tau_0_CIV_dx < 0] = 0\n",
    "Tau_0_SiII_dx[Tau_0_SiII_dx < 0] = 0\n",
    "Tau_0_NV_dx[Tau_0_NV_dx < 0] = 0"
   ]
  },
  {
   "cell_type": "code",
   "execution_count": null,
   "metadata": {},
   "outputs": [],
   "source": []
  },
  {
   "cell_type": "code",
   "execution_count": 23,
   "metadata": {},
   "outputs": [],
   "source": [
    "#48.484848484848484 3.479512956321466"
   ]
  },
  {
   "cell_type": "code",
   "execution_count": 24,
   "metadata": {},
   "outputs": [],
   "source": [
    "#Tau_0 plot with all ions\n",
    "\n",
    "fig = plt.figure(figsize=(7,7))\n",
    "velocity=np.linspace(0,1200,100)\n",
    "ax = fig.add_axes([0.1,0.1,0.85,0.85])\n",
    "plt.plot(velocity, Tau_0_SiII_dx,drawstyle='steps', alpha=0.90,linewidth=3.0, color='blue',label ='Si II T~$10^{3.8}-10^{4.7} K$')\n",
    "#plt.plot(velocity, Tau_0_SiIV_dx,drawstyle='steps', alpha=0.90,linewidth=3.0, color='green',label ='Si IV T~$10^{4.7}-10^{5.4} K$')\n",
    "#plt.plot(velocity, Tau_0_CII_dx,drawstyle='steps', alpha=0.90,linewidth=3.0, color='red',label ='C II T~$10^{3.9}- 10^{4.9} K$')\n",
    "plt.plot(velocity, Tau_0_CIV_dx,drawstyle='steps', alpha=0.90,linewidth=3.0, color='purple',label ='C IV T~$10^{4.9}-10^{5.3} K$')\n",
    "#plt.plot(velocity, Tau_0_NV_dx,drawstyle='steps', alpha=0.90,linewidth=3.0, color='pink',label ='N V T~$10^{5.1}-10^{5.5} K$')\n",
    "plt.plot(velocity, Tau_0_OVI_dx,drawstyle='steps', alpha=0.90,linewidth=3.0, color='black',label ='O VI T~$10^{5.3}-10^{5.7} K$')\n",
    "plt.legend(loc='center right',fontsize=12)\n",
    "ax.set_xlabel('velocity $(km/s)$',fontsize=15)\n",
    "ax.set_ylabel(r'$\\tau_{0}$',fontsize=15)\n",
    "matplotlib.rc('xtick', labelsize=15)\n",
    "matplotlib.rc('ytick', labelsize=15) \n",
    "ax.set_xlim(0,800,100)\n",
    "plt.savefig(dnameout+'LIH_Optdepth_'+str(i)+'.png', dpi=300)\n",
    "plt.close(fig)\n",
    "plt.show()"
   ]
  },
  {
   "cell_type": "code",
   "execution_count": 25,
   "metadata": {},
   "outputs": [
    {
     "name": "stderr",
     "output_type": "stream",
     "text": [
      "/Users/litadlc/anaconda3/lib/python3.6/site-packages/numpy/lib/nanfunctions.py:907: RuntimeWarning: All-NaN slice encountered\n",
      "  result = np.apply_along_axis(_nanmedian1d, axis, a, overwrite_input)\n"
     ]
    }
   ],
   "source": [
    "T_jkw_SiII[T_jkw_SiII < 1e-6] = np.nan\n",
    "T_jkw_SiIV[T_jkw_SiIV < 1e-6] = np.nan\n",
    "T_jkw_OVI[T_jkw_OVI < 1e-6] = np.nan\n",
    "T_jkw_CII[T_jkw_CII < 1e-6] = np.nan\n",
    "T_jkw_CIV[T_jkw_CIV < 1e-6] = np.nan\n",
    "T_jkw_NV[T_jkw_NV < 1e-6] = np.nan\n",
    "\n",
    "median_T_jkw_SiII = np.nanmedian(T_jkw_SiII, axis=(0,1))\n",
    "median_T_jkw_SiIV = np.nanmedian(T_jkw_SiIV, axis=(0,1))\n",
    "median_T_jkw_OVI = np.nanmedian(T_jkw_OVI, axis=(0,1))\n",
    "median_T_jkw_CII = np.nanmedian(T_jkw_CII, axis=(0,1))\n",
    "median_T_jkw_CIV = np.nanmedian(T_jkw_CIV, axis=(0,1))\n",
    "median_T_jkw_NV = np.nanmedian(T_jkw_NV, axis=(0,1))"
   ]
  },
  {
   "cell_type": "code",
   "execution_count": 26,
   "metadata": {},
   "outputs": [
    {
     "name": "stderr",
     "output_type": "stream",
     "text": [
      "/Users/litadlc/anaconda3/lib/python3.6/site-packages/numpy/lib/nanfunctions.py:1172: RuntimeWarning: All-NaN slice encountered\n",
      "  overwrite_input, interpolation)\n"
     ]
    }
   ],
   "source": [
    "#Calculation for first quartile\n",
    "FQ_T_jkw_SiII=np.nanpercentile(T_jkw_SiII, 25, axis=(0,1))\n",
    "FQ_T_jkw_SiIV=np.nanpercentile(T_jkw_SiIV, 25, axis=(0,1))\n",
    "FQ_T_jkw_OVI=np.nanpercentile(T_jkw_OVI, 25, axis=(0,1))\n",
    "FQ_T_jkw_CII=np.nanpercentile(T_jkw_CII, 25, axis=(0,1))\n",
    "FQ_T_jkw_CIV=np.nanpercentile(T_jkw_CIV, 25, axis=(0,1))\n",
    "FQ_T_jkw_NV=np.nanpercentile(T_jkw_NV, 25, axis=(0,1))\n",
    "#Calculation for third quartile\n",
    "TQ_T_jkw_SiII=np.nanpercentile(T_jkw_SiII, 75, axis=(0,1))\n",
    "TQ_T_jkw_SiIV=np.nanpercentile(T_jkw_SiIV, 75, axis=(0,1))\n",
    "TQ_T_jkw_OVI=np.nanpercentile(T_jkw_OVI, 75, axis=(0,1))\n",
    "TQ_T_jkw_CII=np.nanpercentile(T_jkw_CII, 75, axis=(0,1))\n",
    "TQ_T_jkw_CIV=np.nanpercentile(T_jkw_CIV, 75, axis=(0,1))\n",
    "TQ_T_jkw_NV=np.nanpercentile(T_jkw_NV, 75, axis=(0,1))"
   ]
  },
  {
   "cell_type": "code",
   "execution_count": 27,
   "metadata": {},
   "outputs": [],
   "source": [
    "fig = plt.figure(figsize=(4,4))\n",
    "ax = fig.add_axes([0.15,0.15,0.8,0.8])\n",
    "plt.fill_between(velocity,FQ_T_jkw_SiII,TQ_T_jkw_SiII,alpha=0.1,color='blue')\n",
    "#plt.fill_between(velocity,FQ_T_jkw_CIV,TQ_T_jkw_CIV,alpha=0.1,color='purple')\n",
    "#plt.fill_between(velocity,FQ_T_jkw_OVI,TQ_T_jkw_OVI,alpha=0.1,color='black')\n",
    "\n",
    "plt.plot(velocity,median_T_jkw_SiII,'--',linewidth=1,color='blue',label ='Si II')\n",
    "#plt.plot(velocity,median_T_jkw_CIV,'--',linewidth=1,color='purple',label ='C IV')\n",
    "#plt.plot(velocity,median_T_jkw_OVI,'--',linewidth=1,color='black',label ='O VI')\n",
    "\n",
    "\n",
    "plt.plot(velocity, Tau_0_SiII_dx,drawstyle='steps', alpha=0.90,linewidth=2.0, color='blue',label ='Si II Empirical')\n",
    "#plt.plot(velocity, Tau_0_CIV_dx,drawstyle='steps', alpha=0.90,linewidth=2.0, color='purple',label=' C IV Empirical')\n",
    "#plt.plot(velocity, Tau_0_OVI_dx,drawstyle='steps', alpha=0.90,linewidth=2.0, color='black',label='O VI Empirical')\n",
    "\n",
    "plt.legend(loc='upper right',fontsize=10)\n",
    "ax.set_xlim(0,650,50)\n",
    "\n",
    "#ax.set_yscale('log')\n",
    "ax.set_ylabel(r'$\\tau$',fontsize=12)\n",
    "ax.set_xlabel(r'velocity $km/s$',fontsize=12)\n",
    "matplotlib.rc('xtick', labelsize=12) \n",
    "matplotlib.rc('ytick', labelsize=12) \n",
    "plt.savefig(dnameout+'Stats_Low_Ion_.png', dpi=300)\n",
    "plt.close(fig)\n",
    "plt.show()"
   ]
  },
  {
   "cell_type": "code",
   "execution_count": 28,
   "metadata": {},
   "outputs": [],
   "source": [
    "fig = plt.figure(figsize=(4,4))\n",
    "ax = fig.add_axes([0.15,0.15,0.8,0.8])\n",
    "plt.fill_between(velocity,FQ_T_jkw_SiII,TQ_T_jkw_SiII,alpha=0.3)\n",
    "plt.plot(velocity,median_T_jkw_SiII,'--',linewidth=1,color='blue',label ='Si II T~$10^{3.8}-10^{4.7} K$')\n",
    "plt.plot(velocity, Tau_0_SiII_dx,drawstyle='steps', alpha=0.90,linewidth=2.0, color='blue',label ='Si II Empirical')\n",
    "plt.legend(loc='upper right',fontsize=10)\n",
    "ax.set_xlim(0,650,50)\n",
    "ax.set_ylabel(r'$\\tau$',fontsize=12)\n",
    "ax.set_xlabel(r'velocity $km/s$',fontsize=12)\n",
    "matplotlib.rc('xtick', labelsize=12) \n",
    "matplotlib.rc('ytick', labelsize=12) \n",
    "plt.savefig(dnameout+'Stats_Tau_SiII_newtemp_'+str(i)+'.png', dpi=300)\n",
    "plt.close(fig)\n",
    "plt.show()"
   ]
  },
  {
   "cell_type": "code",
   "execution_count": 29,
   "metadata": {},
   "outputs": [],
   "source": [
    "fig = plt.figure(figsize=(4,4))\n",
    "ax = fig.add_axes([0.15,0.15,0.8,0.8])\n",
    "plt.fill_between(velocity,FQ_T_jkw_CII,TQ_T_jkw_CII,alpha=0.3,color='red')\n",
    "plt.plot(velocity,median_T_jkw_CII,'--',linewidth=1,color='red',label ='C II T~$10^{3.9}-10^{4.9} K$')\n",
    "plt.plot(velocity, Tau_0_CII_dx,drawstyle='steps', alpha=0.90,linewidth=2.0, color='red',label ='C II Empirical')\n",
    "ax.set_xlim(0,650,50)\n",
    "plt.legend(loc='upper right',fontsize=10)\n",
    "ax.set_ylabel(r'$\\tau$',fontsize=12)\n",
    "ax.set_xlabel(r'velocity $km/s$',fontsize=12)\n",
    "matplotlib.rc('xtick', labelsize=12) \n",
    "matplotlib.rc('ytick', labelsize=12) \n",
    "plt.savefig(dnameout+'Stats_Tau_CII_newtemp_'+str(i)+'.png', dpi=300)\n",
    "plt.close(fig)\n",
    "plt.show()"
   ]
  },
  {
   "cell_type": "code",
   "execution_count": 30,
   "metadata": {},
   "outputs": [],
   "source": [
    "fig = plt.figure(figsize=(4,4))\n",
    "ax = fig.add_axes([0.15,0.15,0.8,0.8])\n",
    "plt.fill_between(velocity,FQ_T_jkw_OVI,TQ_T_jkw_OVI,alpha=0.3,color='black')\n",
    "plt.plot(velocity,median_T_jkw_OVI,'--',linewidth=1,color='black',label ='O VI T~$10^{5.3}-10^{5.57} K$')\n",
    "plt.plot(velocity, Tau_0_OVI_dx,drawstyle='steps', alpha=0.90,linewidth=2.0, color='black',label='O VI Empirical')\n",
    "plt.legend(loc='lower left',fontsize=10)\n",
    "ax.set_xlim(0,650,50)\n",
    "ax.set_ylabel(r'$\\tau$',fontsize=12)\n",
    "ax.set_xlabel(r'velocity $km/s$',fontsize=12)\n",
    "matplotlib.rc('xtick', labelsize=12) \n",
    "matplotlib.rc('ytick', labelsize=12) \n",
    "plt.savefig(dnameout+'Stats_Tau_OVI_newtemp_'+str(i)+'.png', dpi=300)\n",
    "plt.close(fig)\n",
    "plt.show()"
   ]
  },
  {
   "cell_type": "code",
   "execution_count": 31,
   "metadata": {},
   "outputs": [],
   "source": [
    "fig = plt.figure(figsize=(4,4))\n",
    "ax = fig.add_axes([0.15,0.15,0.8,0.8])\n",
    "plt.fill_between(velocity,FQ_T_jkw_SiIV,TQ_T_jkw_SiIV,alpha=0.3,color='green')\n",
    "plt.plot(velocity,median_T_jkw_SiIV,'--',linewidth=1,color='green',label ='Si IV T~$10^{4.7}-10^{5.4} K$')\n",
    "plt.plot(velocity, Tau_0_SiIV_dx,drawstyle='steps', alpha=0.90,linewidth=2.0, color='green', label='Si IV Empirical')\n",
    "plt.legend(loc='upper right',fontsize=10)\n",
    "ax.set_xlim(0,650,50)\n",
    "ax.set_ylabel(r'$\\tau$',fontsize=12)\n",
    "ax.set_xlabel(r'velocity $km/s$',fontsize=12)\n",
    "matplotlib.rc('xtick', labelsize=12) \n",
    "matplotlib.rc('ytick', labelsize=12) \n",
    "plt.savefig(dnameout+'Stats_Tau_SiIV_newtemp_'+str(i)+'.png', dpi=300)\n",
    "plt.close(fig)\n",
    "plt.show()"
   ]
  },
  {
   "cell_type": "code",
   "execution_count": 32,
   "metadata": {},
   "outputs": [],
   "source": [
    "fig = plt.figure(figsize=(4,4))\n",
    "ax = fig.add_axes([0.15,0.15,0.8,0.8])\n",
    "plt.fill_between(velocity,FQ_T_jkw_CIV,TQ_T_jkw_CIV,alpha=0.3,color='purple')\n",
    "plt.plot(velocity,median_T_jkw_CIV,'--',linewidth=1,color='purple',label ='C IV T~$10^{4.9}-10^{5.3} K$')\n",
    "plt.plot(velocity, Tau_0_CIV_dx,drawstyle='steps', alpha=0.90,linewidth=2.0, color='purple',label=' C IV Empirical')\n",
    "plt.legend(loc='upper right',fontsize=10)\n",
    "ax.set_xlim(0,650,50)\n",
    "ax.set_ylabel(r'$\\tau$',fontsize=12)\n",
    "ax.set_xlabel(r'velocity $km/s$',fontsize=12)\n",
    "matplotlib.rc('xtick', labelsize=12) \n",
    "matplotlib.rc('ytick', labelsize=12) \n",
    "plt.savefig(dnameout+'Stats_Tau_CIV_newtemp_'+str(i)+'.png', dpi=300)\n",
    "plt.close(fig)\n",
    "plt.show()"
   ]
  },
  {
   "cell_type": "code",
   "execution_count": 33,
   "metadata": {},
   "outputs": [],
   "source": [
    "fig = plt.figure(figsize=(4,4))\n",
    "ax = fig.add_axes([0.2,0.15,0.75,0.8])\n",
    "plt.fill_between(velocity,FQ_T_jkw_NV,TQ_T_jkw_NV,alpha=0.3,color='pink')\n",
    "plt.plot(velocity,median_T_jkw_NV,'--',linewidth=1,color='pink',label ='N V T~$10^{5.2}-10^{5.4} K$')\n",
    "plt.plot(velocity, Tau_0_NV_dx,drawstyle='steps', alpha=0.90,linewidth=2.0, color='pink',label='N V Empirical')\n",
    "plt.legend(loc='lower left',fontsize=10)\n",
    "ax.set_xlim(0,650,50)\n",
    "ax.set_ylabel(r'$\\tau$',fontsize=12)\n",
    "ax.set_xlabel(r'velocity $km/s$',fontsize=12)\n",
    "plt.savefig(dnameout+'Stats_Tau_NV_newtemp_'+str(i)+'.png', dpi=300)\n",
    "plt.close(fig)\n",
    "plt.show()"
   ]
  },
  {
   "cell_type": "code",
   "execution_count": 34,
   "metadata": {},
   "outputs": [],
   "source": [
    "fig = plt.figure(figsize=(8,5))\n",
    "ax = fig.add_axes([0.19,0.17,0.58,0.75])\n",
    "plt.plot(velocity, Tau_0_SiII_dx,drawstyle='steps', alpha=0.90,linewidth=3.0, color='blue',label ='Si II T~$10^{3.8}-10^{4.7} K$')\n",
    "plt.plot(velocity, Tau_0_CII_dx,drawstyle='steps', alpha=0.90,linewidth=3.0, color='red',label ='C II T~$10^{3.9}- 10^{4.9} K$')\n",
    "plt.legend(loc='upper right',fontsize=12)\n",
    "ax.set_xlim(0,1200,50)\n",
    "ax.set_ylabel(r'$\\tau_0$',fontsize=20)\n",
    "ax.set_xlabel(r'velocity $km/s$',fontsize=15)\n",
    "plt.savefig(dnameout+'Tau0_LowIons_'+str(i)+'.png', dpi=300)\n",
    "plt.close(fig)\n",
    "plt.show()"
   ]
  },
  {
   "cell_type": "code",
   "execution_count": 35,
   "metadata": {},
   "outputs": [],
   "source": [
    "fig = plt.figure(figsize=(8,5))\n",
    "ax = fig.add_axes([0.19,0.17,0.58,0.75])\n",
    "plt.plot(velocity,Tau_0_SiIV_dx ,drawstyle='steps', alpha=0.90,linewidth=3.0, color='green',label ='Si IV T~$10^{4.7}-10^{5.4} K$')\n",
    "plt.plot(velocity, Tau_0_CIV_dx,drawstyle='steps', alpha=0.90,linewidth=3.0, color='purple',label ='C IV T~$10^{4.9}-10^{5.3} K$')\n",
    "plt.legend(loc='upper right',fontsize=12)\n",
    "ax.set_xlim(0,1200,50)\n",
    "ax.set_ylabel(r'$\\tau_0$',fontsize=20)\n",
    "ax.set_xlabel(r'velocity $km/s$',fontsize=15)\n",
    "plt.savefig(dnameout+'Tau0_MedIons_'+str(i)+'.png', dpi=300)\n",
    "plt.close(fig)\n",
    "plt.show()"
   ]
  },
  {
   "cell_type": "code",
   "execution_count": 36,
   "metadata": {},
   "outputs": [],
   "source": [
    "fig = plt.figure(figsize=(8,5))\n",
    "ax = fig.add_axes([0.19,0.17,0.58,0.75])\n",
    "plt.plot(velocity,Tau_0_NV_dx ,drawstyle='steps', alpha=0.90,linewidth=3.0, color='pink',label ='N V T~$10^{5.1}-10^{5.5} K$')\n",
    "plt.plot(velocity, Tau_0_OVI_dx,drawstyle='steps', alpha=0.90,linewidth=3.0, color='black',label ='O VI T~$10^{5.3}-10^{5.7} K$')\n",
    "plt.legend(loc='upper right',fontsize=12)\n",
    "ax.set_xlim(0,1200,50)\n",
    "ax.set_ylabel(r'$\\tau_0$',fontsize=20)\n",
    "ax.set_xlabel(r'velocity $km/s$',fontsize=15)\n",
    "plt.savefig(dnameout+'Tau0_HighIons_'+str(i)+'.png', dpi=300)\n",
    "plt.close(fig)\n",
    "plt.show()"
   ]
  },
  {
   "cell_type": "code",
   "execution_count": 37,
   "metadata": {},
   "outputs": [],
   "source": [
    "c_SiII_dx[c_SiII_dx == inf] = 0\n",
    "c_CII_dx[c_CII_dx== inf] = 0\n",
    "c_SiIV_dx[c_SiIV_dx == inf] = 0\n",
    "c_CIV_dx[c_CIV_dx == inf] = 0\n",
    "c_OVI_dx[c_OVI_dx == inf] = 0\n",
    "c_NV_dx[c_NV_dx == inf] = 0\n"
   ]
  },
  {
   "cell_type": "code",
   "execution_count": 38,
   "metadata": {},
   "outputs": [],
   "source": [
    "#Covering fraction from simulation\n",
    "sim_cf_SiII=np.load('sim_cf_SiII.npy')\n",
    "sim_cf_SiIV=np.load('sim_cf_SiIV.npy')\n",
    "sim_cf_CII=np.load('sim_cf_CII.npy')\n",
    "sim_cf_CIV=np.load('sim_cf_CIV.npy')\n",
    "sim_cf_OVI=np.load('sim_cf_OVI.npy')\n",
    "sim_cf_NV=np.load('sim_cf_NV.npy')"
   ]
  },
  {
   "cell_type": "code",
   "execution_count": 39,
   "metadata": {},
   "outputs": [],
   "source": [
    "fig = plt.figure(figsize=(10,9))\n",
    "velocity=np.linspace(0,1200,100)\n",
    "f, ((ax1, ax2), (ax3, ax4),(ax5,ax6)) = plt.subplots(3, 2, sharex='col', sharey='row',figsize=(10,9))\n",
    "ax1.plot(velocity, c_SiII_dx,drawstyle='steps', alpha=0.50,linewidth=7.0, color='blue',label ='Si II Empirical')\n",
    "ax1.plot(velocity, sim_cf_SiII,'--',drawstyle='steps', alpha=0.95,linewidth=3.0, color='blue',label ='Si II Direct ')\n",
    "ax2.plot(velocity, c_CII_dx,drawstyle='steps', alpha=0.50,linewidth=7.0, color='red',label ='C II Empirical')\n",
    "ax2.plot(velocity, sim_cf_CII,'--',drawstyle='steps', alpha=0.95,linewidth=3.0, color='red',label ='C II Direct')\n",
    "ax3.plot(velocity, c_SiIV_dx,drawstyle='steps', alpha=0.50,linewidth=7.0, color='green',label ='Si IV Empirical')\n",
    "ax3.plot(velocity, sim_cf_SiIV,'--',drawstyle='steps', alpha=0.95,linewidth=3.0, color='green',label ='Si IV Direct')\n",
    "ax4.plot(velocity, c_CIV_dx,drawstyle='steps', alpha=0.50,linewidth=7.0, color='purple',label ='C IV Empirical')\n",
    "ax4.plot(velocity, sim_cf_CIV,'--',drawstyle='steps', alpha=0.95,linewidth=3.0, color='purple',label ='C IV Direct')\n",
    "ax5.plot(velocity, c_OVI_dx,drawstyle='steps', alpha=0.50,linewidth=7.0, color='black',label ='O VI Empirical')\n",
    "ax5.plot(velocity, sim_cf_OVI,'--',drawstyle='steps', alpha=0.95,linewidth=3.0, color='black',label ='O VI Direct')\n",
    "ax6.plot(velocity, c_NV_dx,drawstyle='steps', alpha=0.50,linewidth=7.0, color='pink',label ='N V Empirical')\n",
    "ax6.plot(velocity, sim_cf_NV,'--',drawstyle='steps', alpha=0.95,linewidth=3.0, color='pink',label ='N V Direct')\n",
    "\n",
    "ax1.set_ylim(0,0.01,0.002)\n",
    "ax2.set_ylim(0,0.01,0.002)\n",
    "ax3.set_ylim(0,0.01,0.002)\n",
    "ax4.set_ylim(0,0.01,0.002)\n",
    "ax5.set_ylim(0,0.01,0.002)\n",
    "ax6.set_ylim(0,0.01,0.002)\n",
    "\n",
    "ax1.legend(loc='upper right',fontsize=15)\n",
    "ax2.legend(loc='upper right',fontsize=15)\n",
    "ax3.legend(loc='upper right',fontsize=15)\n",
    "ax4.legend(loc='upper right',fontsize=15)\n",
    "ax5.legend(loc='upper right',fontsize=15)\n",
    "ax6.legend(loc='upper right',fontsize=15)\n",
    "ax5.set_xlabel('velocity $km/s$',fontsize=15)\n",
    "ax6.set_xlabel('velocity $km/s$',fontsize=15)\n",
    "ax3.set_ylabel(r'c$_{f}$',fontsize=20)\n",
    "matplotlib.rc('xtick', labelsize=15) \n",
    "matplotlib.rc('ytick', labelsize=15) \n",
    "plt.savefig(dnameout+'CoveringFraction_Sim_Ob_newtemp_'+str(i)+'.png', dpi=300)\n",
    "plt.close(fig)\n",
    "plt.show()"
   ]
  },
  {
   "cell_type": "code",
   "execution_count": 40,
   "metadata": {},
   "outputs": [],
   "source": [
    "fig = plt.figure(figsize=(8,5))\n",
    "ax = fig.add_axes([0.19,0.17,0.58,0.75])\n",
    "plt.plot(velocity, c_SiII_dx,drawstyle='steps', alpha=0.90,linewidth=3.0, color='blue',label ='Si II T~$10^{3.8}-10^{4.7} K$')\n",
    "plt.plot(velocity, c_CII_dx,drawstyle='steps', alpha=0.90,linewidth=3.0, color='red',label ='C II T~$10^{3.9}- 10^{4.9} K$')\n",
    "plt.legend(loc='upper right',fontsize=12)\n",
    "ax.set_xlim(0,1200,50)\n",
    "ax.set_ylabel(r'$c_f$',fontsize=20)\n",
    "ax.set_xlabel(r'velocity',fontsize=15)\n",
    "plt.savefig(dnameout+'CF_LowIons_'+str(i)+'.png', dpi=300)\n",
    "plt.close(fig)\n",
    "plt.show()"
   ]
  },
  {
   "cell_type": "code",
   "execution_count": 41,
   "metadata": {},
   "outputs": [],
   "source": [
    "fig = plt.figure(figsize=(8,5))\n",
    "ax = fig.add_axes([0.19,0.17,0.58,0.75])\n",
    "plt.plot(velocity,c_SiIV_dx ,drawstyle='steps', alpha=0.90,linewidth=3.0, color='green',label ='Si IV T~$10^{4.7}-10^{5.4} K$')\n",
    "plt.plot(velocity, c_CIV_dx,drawstyle='steps', alpha=0.90,linewidth=3.0, color='purple',label ='C IV T~$10^{4.9}-10^{5.3} K$')\n",
    "plt.legend(loc='upper right',fontsize=12)\n",
    "ax.set_xlim(0,1200,50)\n",
    "ax.set_ylabel(r'$c_f$',fontsize=20)\n",
    "ax.set_xlabel(r'velocity',fontsize=15)\n",
    "plt.savefig(dnameout+'CF_MedIons_'+str(i)+'.png', dpi=300)\n",
    "plt.close(fig)\n",
    "plt.show()"
   ]
  },
  {
   "cell_type": "code",
   "execution_count": 42,
   "metadata": {},
   "outputs": [],
   "source": [
    "fig = plt.figure(figsize=(8,5))\n",
    "ax = fig.add_axes([0.19,0.17,0.58,0.75])\n",
    "plt.plot(velocity,c_NV_dx ,drawstyle='steps', alpha=0.90,linewidth=3.0, color='pink',label ='N V T~$10^{5.1}-10^{5.5} K$')\n",
    "plt.plot(velocity, c_OVI_dx,drawstyle='steps', alpha=0.90,linewidth=3.0, color='black',label ='O VI T~$10^{5.3}-10^{5.7} K$')\n",
    "plt.legend(loc='upper right',fontsize=12)\n",
    "ax.set_xlim(0,1200,50)\n",
    "ax.set_ylabel(r'$c_f$',fontsize=20)\n",
    "ax.set_xlabel(r'velocity',fontsize=15)\n",
    "plt.savefig(dnameout+'CF_HighIons_'+str(i)+'.png', dpi=300)\n",
    "plt.close(fig)\n",
    "plt.show()"
   ]
  },
  {
   "cell_type": "code",
   "execution_count": 58,
   "metadata": {},
   "outputs": [
    {
     "name": "stdout",
     "output_type": "stream",
     "text": [
      "157.57575757575756 0.007341713992230358\n"
     ]
    }
   ],
   "source": [
    "l=velocity.tolist()\n",
    "m=c_OVI_dx.tolist()\n",
    "n=list(zip(l, m))\n",
    "o=np.array(n)\n",
    "min_y =np.max(m)  # Find the maximum y value\n",
    "max_x = l[m.index(min_y)]  # Find the x value corresponding to the maximum y value\n",
    "print (max_x, min_y)"
   ]
  },
  {
   "cell_type": "code",
   "execution_count": 44,
   "metadata": {},
   "outputs": [],
   "source": [
    "#84.84848484848484 Si II 84.84848484848484 sim Si II\n",
    "#96.96969696969697 C II  96.96969696969697\n",
    "#133.33333333333334 Si IV 133.33333333333334\n",
    "#133.33333333333334 C IV  133.33333333333334\n",
    "#145.45454545454544 NV   145.45454545454544\n",
    "#157.57575757575756 OVI  157.57575757575756 0.009258270263671875"
   ]
  },
  {
   "cell_type": "code",
   "execution_count": 45,
   "metadata": {},
   "outputs": [
    {
     "data": {
      "text/plain": [
       "array([ 0.00000000e+00,  0.00000000e+00,  1.50925516e-05,  7.63768747e-04,\n",
       "        2.01140732e-03,  3.72198988e-03,  5.76403227e-03,  6.65452776e-03,\n",
       "        6.50991677e-03,  6.08787395e-03,  5.56988474e-03,  5.22373192e-03,\n",
       "        4.28646298e-03,  3.40781778e-03,  2.93148311e-03,  2.64177198e-03,\n",
       "        2.48051591e-03,  2.15212058e-03,  1.65024017e-03,  1.40853978e-03,\n",
       "        8.83850538e-04,  5.48261043e-04,  5.03804306e-04,  4.24265777e-04,\n",
       "        2.22197654e-04,  2.17895310e-04,  2.98479699e-04,  2.40269551e-04,\n",
       "        1.99560728e-04,  1.75112728e-04,  1.25234816e-04,  1.25090635e-04,\n",
       "        3.71225110e-05,  1.12668421e-05,  1.51598977e-05,  0.00000000e+00,\n",
       "        0.00000000e+00,  0.00000000e+00,  0.00000000e+00,  0.00000000e+00,\n",
       "        0.00000000e+00,  0.00000000e+00,  0.00000000e+00,  0.00000000e+00,\n",
       "        0.00000000e+00,  0.00000000e+00,  0.00000000e+00,  0.00000000e+00,\n",
       "        0.00000000e+00,  0.00000000e+00,  0.00000000e+00,  0.00000000e+00,\n",
       "        0.00000000e+00,  0.00000000e+00,  0.00000000e+00,  0.00000000e+00,\n",
       "        0.00000000e+00,  0.00000000e+00,  0.00000000e+00,  0.00000000e+00,\n",
       "        0.00000000e+00,  0.00000000e+00,  0.00000000e+00,  0.00000000e+00,\n",
       "        0.00000000e+00,  0.00000000e+00,  0.00000000e+00,  0.00000000e+00,\n",
       "        0.00000000e+00,  0.00000000e+00,  0.00000000e+00,  0.00000000e+00,\n",
       "        0.00000000e+00,  0.00000000e+00,  0.00000000e+00,  0.00000000e+00,\n",
       "        0.00000000e+00,  0.00000000e+00,  0.00000000e+00,  0.00000000e+00,\n",
       "        0.00000000e+00,  0.00000000e+00,  0.00000000e+00,  0.00000000e+00,\n",
       "        0.00000000e+00,  0.00000000e+00,  0.00000000e+00,  0.00000000e+00,\n",
       "        0.00000000e+00,  0.00000000e+00,  0.00000000e+00,  0.00000000e+00,\n",
       "        0.00000000e+00,  0.00000000e+00,  0.00000000e+00, -4.97544393e-16,\n",
       "       -1.49453099e-15, -6.69036934e-15, -2.63820229e-14, -8.01753311e-13])"
      ]
     },
     "execution_count": 45,
     "metadata": {},
     "output_type": "execute_result"
    }
   ],
   "source": []
  },
  {
   "cell_type": "code",
   "execution_count": null,
   "metadata": {},
   "outputs": [],
   "source": []
  },
  {
   "cell_type": "code",
   "execution_count": null,
   "metadata": {},
   "outputs": [],
   "source": []
  }
 ],
 "metadata": {
  "kernelspec": {
   "display_name": "Python 3",
   "language": "python",
   "name": "python3"
  },
  "language_info": {
   "codemirror_mode": {
    "name": "ipython",
    "version": 3
   },
   "file_extension": ".py",
   "mimetype": "text/x-python",
   "name": "python",
   "nbconvert_exporter": "python",
   "pygments_lexer": "ipython3",
   "version": "3.6.5"
  }
 },
 "nbformat": 4,
 "nbformat_minor": 2
}
