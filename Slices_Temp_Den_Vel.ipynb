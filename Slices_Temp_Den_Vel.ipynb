{
 "cells": [
  {
   "cell_type": "code",
   "execution_count": 1,
   "metadata": {},
   "outputs": [
    {
     "name": "stderr",
     "output_type": "stream",
     "text": [
      "/Users/litadlc/anaconda3/lib/python3.6/site-packages/h5py/__init__.py:36: FutureWarning: Conversion of the second argument of issubdtype from `float` to `np.floating` is deprecated. In future, it will be treated as `np.float64 == np.dtype(float).type`.\n",
      "  from ._conv import register_converters as _register_converters\n"
     ]
    }
   ],
   "source": [
    "import h5py\n",
    "import numpy as np\n",
    "import matplotlib\n",
    "matplotlib.use('Agg')\n",
    "matplotlib.rcParams['mathtext.default'] = 'regular'\n",
    "import matplotlib.pyplot as plt\n",
    "from matplotlib.colors import LogNorm\n",
    "from PIL import Image   "
   ]
  },
  {
   "cell_type": "code",
   "execution_count": 2,
   "metadata": {},
   "outputs": [],
   "source": [
    "mp = 1.672622e-24 # mass of hydrogren atom, in grams\n",
    "kb = 1.380658e-16 # boltzmann constant in ergs/K\n",
    "\n",
    "d_c = mp # code density unit, 1 mp / cm^3\n",
    "l_c = 3.08567758e18 # code length unit, 1 pc in cm\n",
    "l_km = 3.08567758e13 # code length unit, 1pc in km\n",
    "t_c = 3.15569e10    # code time unit, 1 kyr in seconds\n",
    "v_c = l_c / t_c     # code velocity unit\n",
    "v_km = l_km / t_c     # code velocity unit\n",
    "p_c = d_c * v_c * v_c # code pressure unit\n",
    "m_c = d_c * l_c * l_c * l_c / 1.9891e33 # code mass unit to solar masses"
   ]
  },
  {
   "cell_type": "code",
   "execution_count": 3,
   "metadata": {},
   "outputs": [],
   "source": [
    "istart_10 = 398 # starting file number\n",
    "iend_10   = 398 # ending file number"
   ]
  },
  {
   "cell_type": "code",
   "execution_count": 4,
   "metadata": {},
   "outputs": [],
   "source": [
    "dx = 5./64. # size scale, pc per cell\n",
    "t_cc = 39.8 # cloud crushing time in kyr, n = 0.5 cloud\n",
    "#t_cc = 56.4 # cloud crushing time in kyr, n = 1 cloud\n",
    "dnamein='/Users/litadlc/Desktop/Data/' # directory where the file is located\n",
    "dnameout='/Users/litadlc/Desktop/10tcc/' # directory where the plot will be saved"
   ]
  },
  {
   "cell_type": "code",
   "execution_count": 5,
   "metadata": {},
   "outputs": [
    {
     "name": "stdout",
     "output_type": "stream",
     "text": [
      "398\n"
     ]
    }
   ],
   "source": [
    "for i10 in range(istart_10,iend_10+1,30):\n",
    "    print(i10)"
   ]
  },
  {
   "cell_type": "code",
   "execution_count": 6,
   "metadata": {},
   "outputs": [],
   "source": [
    "  f10 = h5py.File(dnamein+str(i10)+'.h5', 'r') # open the hdf5 file for reading\n",
    "  head = f10.attrs # read the header attributes into structure, head\n",
    "  gamma_10 = head['gamma'][0] # ratio of specific heats\n",
    "  t_10  = head['t'][0] # time of this snapshot, in kyr\n",
    "  nx_10 = head['dims'][0] # number of cells in the x direction\n",
    "  ny_10 = head['dims'][1] # number of cells in the y direction\n",
    "  nz_10 = head['dims'][2] # number of cells in the z direction\n",
    "  d  = f10['density'][:]   \n",
    "  mx = f10['momentum_x'][:]\n",
    "  #E_10 = f10['Energy'][:]\n",
    "  GE_10 = f10['GasEnergy'][:] # internal energy in code units, d*e\n",
    "  f10.close()"
   ]
  },
  {
   "cell_type": "code",
   "execution_count": 7,
   "metadata": {},
   "outputs": [],
   "source": [
    "mu = 1.0 # for these simulations, I used a mean molecular weight (mu) of 1\n",
    "\n",
    "n = d*d_c/(mu*mp) # number density, particles per cm^3\n",
    "log_n = np.log10(n) # log number density"
   ]
  },
  {
   "cell_type": "code",
   "execution_count": 8,
   "metadata": {},
   "outputs": [],
   "source": [
    "vx_10 = ((mx)/(d))*v_km\n",
    "\n",
    "mass = d*(dx**3)*m_c # mass in solar masses"
   ]
  },
  {
   "cell_type": "code",
   "execution_count": 9,
   "metadata": {},
   "outputs": [],
   "source": [
    "fig =plt.figure(figsize=(9,2.5), frameon=False)\n",
    "ax =  fig.add_axes([0,0.1,0.88,0.8])\n",
    "ax.set_xticks(2048*np.arange(0.1, 1, 0.1))\n",
    "ax.set_yticks(512*np.arange(0.25, 1, 0.25))\n",
    "ax.tick_params(axis='both', which='both', color='black', direction='in', labelleft=0, labelbottom=0, top=1, right=1,width=2)\n",
    "vx_slice=vx_10[:,:,256]\n",
    "plt.imshow(vx_slice.T,cmap='plasma',origin='lower')\n",
    "\n",
    "cbaxes =  fig.add_axes([0.89, 0.1, 0.025, .8]) \n",
    "\n",
    "cb=plt.colorbar(orientation='vertical',cax = cbaxes, ticks=[np.arange(0,1200,200)])\n",
    "cb.set_label(label='velocity $km/s$',size=10)\n",
    "\n",
    "\n",
    "matplotlib.rc('xtick', labelsize=10)\n",
    "matplotlib.rc('ytick', labelsize=10) \n",
    "\n",
    "ax.text(64, 420, r'$\\tilde{n} = 0.5$ cloud ', color='black')\n",
    "ax.text(1800, 420, str(int(t_10/t_cc))+'$t_{cc}$', color='black')\n",
    "#ax.text(1400, 75, r'2048x512x512 cells', color='black')\n",
    "\n",
    "\n",
    "plt.savefig(dnameout+'Slice_vx_newtemp_'+str(i10)+'.png', dpi=300)\n",
    "plt.close(fig)\n",
    "plt.show()"
   ]
  },
  {
   "cell_type": "code",
   "execution_count": 10,
   "metadata": {},
   "outputs": [],
   "source": [
    "#Reshaping velocity slice to compute the percentage of gas that is moving at velocities that range between ~1000 km/s \n",
    "#to ~1,250 km/s\n",
    "v_x=np.reshape(vx_slice, nx_10*ny_10)\n",
    "xbins = np.linspace(0,1500,50)\n",
    "fig = plt.figure(figsize=(4,3))\n",
    "ax = fig.add_axes([0.19,0.17,0.58,0.75])\n",
    "n10, bins, patches = ax.hist(v_x,xbins,histtype = 'step',alpha=0.9,linewidth=2.0, color = 'purple')\n",
    "matplotlib.rc('xtick', labelsize=12) \n",
    "matplotlib.rc('ytick', labelsize=12)\n",
    "ax.set_xlabel('velocity $km/s$',fontsize=12)\n",
    "ax.set_ylabel('Hot Gas',fontsize=12)\n",
    "#plt.savefig(dnameout+'1DHistHotGas_'+str(i10)+'.png', dpi=300)\n",
    "#plt.close(fig)\n",
    "plt.show()"
   ]
  },
  {
   "cell_type": "code",
   "execution_count": 11,
   "metadata": {},
   "outputs": [
    {
     "name": "stdout",
     "output_type": "stream",
     "text": [
      "58.78568533485922\n"
     ]
    }
   ],
   "source": [
    "#Here I computed the total number of cells in the histogram above as well as the total number of cells that are within \n",
    "#the above velocity range. About 58.7 % of the hot gas is within ~1000 km/s to ~1,250 km/s.\n",
    "cells_33_to_42=np.sum(n10[33:42])\n",
    "total_cells_hist=np.sum(n10)\n",
    "Cells_between_33_to_42=(cells_33_to_42/total_cells_hist)*100\n",
    "print(Cells_between_33_to_42)"
   ]
  },
  {
   "cell_type": "code",
   "execution_count": 14,
   "metadata": {},
   "outputs": [],
   "source": [
    "fig =plt.figure(figsize=(9,2.5), frameon=False)\n",
    "ax = fig.add_axes([0,0.1,0.88,0.8])\n",
    "ax.set_xticks(2048*np.arange(0.1, 1, 0.1))\n",
    "ax.set_yticks(512*np.arange(0.25, 1, 0.25))\n",
    "ax.tick_params(axis='both', which='both', color='white', direction='in', labelleft=0, labelbottom=0, top=1, right=1)\n",
    "n_slice=log_n[:,:,256]\n",
    "plt.imshow(n_slice.T,cmap='viridis',origin='lower',vmin=-3,vmax=-1)\n",
    "\n",
    "cbaxes = fig.add_axes([0.89, 0.1, 0.025, .8]) \n",
    "cb=plt.colorbar(orientation='vertical',cax = cbaxes,ticks=[np.arange(-3,-1,0.35)])\n",
    "plt.clim(-3,-1)\n",
    "cb.set_label(label='density $log_{10}(n) [cm^{-3}]$',size=10)\n",
    "\n",
    "\n",
    "\n",
    "matplotlib.rc('xtick', labelsize=10)\n",
    "matplotlib.rc('ytick', labelsize=10) \n",
    "\n",
    "ax.text(64, 420, r'$\\tilde{n} = 0.5$ cloud ', color='white')\n",
    "ax.text(1800, 420, str(int(t_10/t_cc))+'$t_{cc}$', color='white')\n",
    "#ax.text(1400, 75, r'2048x512x512 cells', color='white')\n",
    "\n",
    "plt.savefig(dnameout+'Slice_n_newtemp_'+str(i10)+'.png', dpi=300)\n",
    "plt.close(fig)\n",
    "plt.show()"
   ]
  },
  {
   "cell_type": "code",
   "execution_count": 13,
   "metadata": {},
   "outputs": [],
   "source": [
    "T = (GE_10*(gamma_10-1.0)*p_c)/(d*kb)\n",
    "log_T = np.log10(T)\n",
    "\n",
    "fig =plt.figure(figsize=(9,2.5), frameon=False)\n",
    "ax = fig.add_axes([0,0.1,0.88,0.8])\n",
    "ax.set_xticks(2048*np.arange(0.1, 1, 0.1))\n",
    "ax.set_yticks(512*np.arange(0.25, 1, 0.25))\n",
    "ax.tick_params(axis='both', which='both', color='black', direction='in', labelleft=0, labelbottom=0, top=1, right=1)\n",
    "T_slice=log_T[:,:,256]\n",
    "Tempcb=plt.imshow(T_slice.T,cmap='rainbow',origin='lower',vmin=3,vmax=7)\n",
    "\n",
    "cbaxes =  fig.add_axes([0.89, 0.1, 0.025, .8]) \n",
    "cb.set_label(label='T $log_{10}(K)$',size=10)\n",
    " \n",
    "cb=plt.colorbar(orientation='vertical',cax = cbaxes,ticks=[np.arange(3,7,0.7)])\n",
    "cb.set_label(label='T $log_{10}(K)$',size=10)\n",
    "cbaxes.tick_params(axis='y', direction='in')\n",
    "\n",
    "matplotlib.rc('xtick', labelsize=10)\n",
    "matplotlib.rc('ytick', labelsize=10) \n",
    "\n",
    "ax.text(64, 420, r'$\\tilde{n} = 0.5$ cloud ', color='black')\n",
    "ax.text(1800, 420, str(int(t_10/t_cc))+'$t_{cc}$', color='black')\n",
    "#ax.text(1400, 75, r'2048x512x512 cells', color='black')\n",
    "\n",
    "plt.savefig(dnameout+'Slice_Temp_newtemp_'+str(i10)+'.png', dpi=300)\n",
    "plt.close(fig)\n",
    "plt.show()"
   ]
  },
  {
   "cell_type": "code",
   "execution_count": null,
   "metadata": {},
   "outputs": [],
   "source": []
  }
 ],
 "metadata": {
  "kernelspec": {
   "display_name": "Python 3",
   "language": "python",
   "name": "python3"
  },
  "language_info": {
   "codemirror_mode": {
    "name": "ipython",
    "version": 3
   },
   "file_extension": ".py",
   "mimetype": "text/x-python",
   "name": "python",
   "nbconvert_exporter": "python",
   "pygments_lexer": "ipython3",
   "version": "3.6.5"
  }
 },
 "nbformat": 4,
 "nbformat_minor": 2
}
